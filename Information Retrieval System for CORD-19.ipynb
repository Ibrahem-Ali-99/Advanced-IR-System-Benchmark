{
  "nbformat": 4,
  "nbformat_minor": 0,
  "metadata": {
    "colab": {
      "provenance": [],
      "gpuType": "T4"
    },
    "kernelspec": {
      "name": "python3",
      "display_name": "Python 3"
    },
    "language_info": {
      "name": "python"
    },
    "accelerator": "GPU",
    "widgets": {
      "application/vnd.jupyter.widget-state+json": {
        "b26d68653c58436788d80d308379b17d": {
          "model_module": "@jupyter-widgets/controls",
          "model_name": "HBoxModel",
          "model_module_version": "1.5.0",
          "state": {
            "_dom_classes": [],
            "_model_module": "@jupyter-widgets/controls",
            "_model_module_version": "1.5.0",
            "_model_name": "HBoxModel",
            "_view_count": null,
            "_view_module": "@jupyter-widgets/controls",
            "_view_module_version": "1.5.0",
            "_view_name": "HBoxView",
            "box_style": "",
            "children": [
              "IPY_MODEL_ff41cd9daa034544924c7447b40fc261",
              "IPY_MODEL_992d5edc06d94c5f94624dcd8da13981",
              "IPY_MODEL_b0c206d7c9e3424aaba76568e8b8ce07"
            ],
            "layout": "IPY_MODEL_b419ac8bfaf647d2b030ed3b5339e55a"
          }
        },
        "ff41cd9daa034544924c7447b40fc261": {
          "model_module": "@jupyter-widgets/controls",
          "model_name": "HTMLModel",
          "model_module_version": "1.5.0",
          "state": {
            "_dom_classes": [],
            "_model_module": "@jupyter-widgets/controls",
            "_model_module_version": "1.5.0",
            "_model_name": "HTMLModel",
            "_view_count": null,
            "_view_module": "@jupyter-widgets/controls",
            "_view_module_version": "1.5.0",
            "_view_name": "HTMLView",
            "description": "",
            "description_tooltip": null,
            "layout": "IPY_MODEL_e6e33f7e2aa9446a9580312410204fb4",
            "placeholder": "​",
            "style": "IPY_MODEL_9671f47bf5194b158deca67228b9be00",
            "value": "cord19/trec-covid documents:  26%"
          }
        },
        "992d5edc06d94c5f94624dcd8da13981": {
          "model_module": "@jupyter-widgets/controls",
          "model_name": "FloatProgressModel",
          "model_module_version": "1.5.0",
          "state": {
            "_dom_classes": [],
            "_model_module": "@jupyter-widgets/controls",
            "_model_module_version": "1.5.0",
            "_model_name": "FloatProgressModel",
            "_view_count": null,
            "_view_module": "@jupyter-widgets/controls",
            "_view_module_version": "1.5.0",
            "_view_name": "ProgressView",
            "bar_style": "danger",
            "description": "",
            "description_tooltip": null,
            "layout": "IPY_MODEL_f79c94d20c2643f0a993cfda5dabed86",
            "max": 192509,
            "min": 0,
            "orientation": "horizontal",
            "style": "IPY_MODEL_f8dcc54d05f64ef185a8967d99d0ea08",
            "value": 49999
          }
        },
        "b0c206d7c9e3424aaba76568e8b8ce07": {
          "model_module": "@jupyter-widgets/controls",
          "model_name": "HTMLModel",
          "model_module_version": "1.5.0",
          "state": {
            "_dom_classes": [],
            "_model_module": "@jupyter-widgets/controls",
            "_model_module_version": "1.5.0",
            "_model_name": "HTMLModel",
            "_view_count": null,
            "_view_module": "@jupyter-widgets/controls",
            "_view_module_version": "1.5.0",
            "_view_name": "HTMLView",
            "description": "",
            "description_tooltip": null,
            "layout": "IPY_MODEL_1f06a8e9c21241719368c6da8d650f55",
            "placeholder": "​",
            "style": "IPY_MODEL_7437bb180a044093b28c5533032f4350",
            "value": " 49999/192509 [00:01&lt;00:06, 23308.74it/s]"
          }
        },
        "b419ac8bfaf647d2b030ed3b5339e55a": {
          "model_module": "@jupyter-widgets/base",
          "model_name": "LayoutModel",
          "model_module_version": "1.2.0",
          "state": {
            "_model_module": "@jupyter-widgets/base",
            "_model_module_version": "1.2.0",
            "_model_name": "LayoutModel",
            "_view_count": null,
            "_view_module": "@jupyter-widgets/base",
            "_view_module_version": "1.2.0",
            "_view_name": "LayoutView",
            "align_content": null,
            "align_items": null,
            "align_self": null,
            "border": null,
            "bottom": null,
            "display": null,
            "flex": null,
            "flex_flow": null,
            "grid_area": null,
            "grid_auto_columns": null,
            "grid_auto_flow": null,
            "grid_auto_rows": null,
            "grid_column": null,
            "grid_gap": null,
            "grid_row": null,
            "grid_template_areas": null,
            "grid_template_columns": null,
            "grid_template_rows": null,
            "height": null,
            "justify_content": null,
            "justify_items": null,
            "left": null,
            "margin": null,
            "max_height": null,
            "max_width": null,
            "min_height": null,
            "min_width": null,
            "object_fit": null,
            "object_position": null,
            "order": null,
            "overflow": null,
            "overflow_x": null,
            "overflow_y": null,
            "padding": null,
            "right": null,
            "top": null,
            "visibility": null,
            "width": null
          }
        },
        "e6e33f7e2aa9446a9580312410204fb4": {
          "model_module": "@jupyter-widgets/base",
          "model_name": "LayoutModel",
          "model_module_version": "1.2.0",
          "state": {
            "_model_module": "@jupyter-widgets/base",
            "_model_module_version": "1.2.0",
            "_model_name": "LayoutModel",
            "_view_count": null,
            "_view_module": "@jupyter-widgets/base",
            "_view_module_version": "1.2.0",
            "_view_name": "LayoutView",
            "align_content": null,
            "align_items": null,
            "align_self": null,
            "border": null,
            "bottom": null,
            "display": null,
            "flex": null,
            "flex_flow": null,
            "grid_area": null,
            "grid_auto_columns": null,
            "grid_auto_flow": null,
            "grid_auto_rows": null,
            "grid_column": null,
            "grid_gap": null,
            "grid_row": null,
            "grid_template_areas": null,
            "grid_template_columns": null,
            "grid_template_rows": null,
            "height": null,
            "justify_content": null,
            "justify_items": null,
            "left": null,
            "margin": null,
            "max_height": null,
            "max_width": null,
            "min_height": null,
            "min_width": null,
            "object_fit": null,
            "object_position": null,
            "order": null,
            "overflow": null,
            "overflow_x": null,
            "overflow_y": null,
            "padding": null,
            "right": null,
            "top": null,
            "visibility": null,
            "width": null
          }
        },
        "9671f47bf5194b158deca67228b9be00": {
          "model_module": "@jupyter-widgets/controls",
          "model_name": "DescriptionStyleModel",
          "model_module_version": "1.5.0",
          "state": {
            "_model_module": "@jupyter-widgets/controls",
            "_model_module_version": "1.5.0",
            "_model_name": "DescriptionStyleModel",
            "_view_count": null,
            "_view_module": "@jupyter-widgets/base",
            "_view_module_version": "1.2.0",
            "_view_name": "StyleView",
            "description_width": ""
          }
        },
        "f79c94d20c2643f0a993cfda5dabed86": {
          "model_module": "@jupyter-widgets/base",
          "model_name": "LayoutModel",
          "model_module_version": "1.2.0",
          "state": {
            "_model_module": "@jupyter-widgets/base",
            "_model_module_version": "1.2.0",
            "_model_name": "LayoutModel",
            "_view_count": null,
            "_view_module": "@jupyter-widgets/base",
            "_view_module_version": "1.2.0",
            "_view_name": "LayoutView",
            "align_content": null,
            "align_items": null,
            "align_self": null,
            "border": null,
            "bottom": null,
            "display": null,
            "flex": null,
            "flex_flow": null,
            "grid_area": null,
            "grid_auto_columns": null,
            "grid_auto_flow": null,
            "grid_auto_rows": null,
            "grid_column": null,
            "grid_gap": null,
            "grid_row": null,
            "grid_template_areas": null,
            "grid_template_columns": null,
            "grid_template_rows": null,
            "height": null,
            "justify_content": null,
            "justify_items": null,
            "left": null,
            "margin": null,
            "max_height": null,
            "max_width": null,
            "min_height": null,
            "min_width": null,
            "object_fit": null,
            "object_position": null,
            "order": null,
            "overflow": null,
            "overflow_x": null,
            "overflow_y": null,
            "padding": null,
            "right": null,
            "top": null,
            "visibility": null,
            "width": null
          }
        },
        "f8dcc54d05f64ef185a8967d99d0ea08": {
          "model_module": "@jupyter-widgets/controls",
          "model_name": "ProgressStyleModel",
          "model_module_version": "1.5.0",
          "state": {
            "_model_module": "@jupyter-widgets/controls",
            "_model_module_version": "1.5.0",
            "_model_name": "ProgressStyleModel",
            "_view_count": null,
            "_view_module": "@jupyter-widgets/base",
            "_view_module_version": "1.2.0",
            "_view_name": "StyleView",
            "bar_color": null,
            "description_width": ""
          }
        },
        "1f06a8e9c21241719368c6da8d650f55": {
          "model_module": "@jupyter-widgets/base",
          "model_name": "LayoutModel",
          "model_module_version": "1.2.0",
          "state": {
            "_model_module": "@jupyter-widgets/base",
            "_model_module_version": "1.2.0",
            "_model_name": "LayoutModel",
            "_view_count": null,
            "_view_module": "@jupyter-widgets/base",
            "_view_module_version": "1.2.0",
            "_view_name": "LayoutView",
            "align_content": null,
            "align_items": null,
            "align_self": null,
            "border": null,
            "bottom": null,
            "display": null,
            "flex": null,
            "flex_flow": null,
            "grid_area": null,
            "grid_auto_columns": null,
            "grid_auto_flow": null,
            "grid_auto_rows": null,
            "grid_column": null,
            "grid_gap": null,
            "grid_row": null,
            "grid_template_areas": null,
            "grid_template_columns": null,
            "grid_template_rows": null,
            "height": null,
            "justify_content": null,
            "justify_items": null,
            "left": null,
            "margin": null,
            "max_height": null,
            "max_width": null,
            "min_height": null,
            "min_width": null,
            "object_fit": null,
            "object_position": null,
            "order": null,
            "overflow": null,
            "overflow_x": null,
            "overflow_y": null,
            "padding": null,
            "right": null,
            "top": null,
            "visibility": null,
            "width": null
          }
        },
        "7437bb180a044093b28c5533032f4350": {
          "model_module": "@jupyter-widgets/controls",
          "model_name": "DescriptionStyleModel",
          "model_module_version": "1.5.0",
          "state": {
            "_model_module": "@jupyter-widgets/controls",
            "_model_module_version": "1.5.0",
            "_model_name": "DescriptionStyleModel",
            "_view_count": null,
            "_view_module": "@jupyter-widgets/base",
            "_view_module_version": "1.2.0",
            "_view_name": "StyleView",
            "description_width": ""
          }
        }
      }
    }
  },
  "cells": [
    {
      "cell_type": "markdown",
      "source": [
        "# Package Installation"
      ],
      "metadata": {
        "id": "zC9rawm8asDb"
      }
    },
    {
      "cell_type": "code",
      "source": [
        "!pip install -qU transformers sentence-transformers datasets faiss-cpu openai pandas nltk scikit-learn evaluate python-terrier streamlit ir_datasets"
      ],
      "metadata": {
        "id": "KfmRu7jSZB9J"
      },
      "execution_count": 7,
      "outputs": []
    },
    {
      "cell_type": "code",
      "source": [
        "!pip install gradio"
      ],
      "metadata": {
        "colab": {
          "base_uri": "https://localhost:8080/"
        },
        "id": "8KnEYDeNiZQg",
        "outputId": "a23c6ab0-2482-4de0-ec08-42823dd7e03a"
      },
      "execution_count": 98,
      "outputs": [
        {
          "output_type": "stream",
          "name": "stdout",
          "text": [
            "Collecting gradio\n",
            "  Downloading gradio-5.29.0-py3-none-any.whl.metadata (16 kB)\n",
            "Collecting aiofiles<25.0,>=22.0 (from gradio)\n",
            "  Downloading aiofiles-24.1.0-py3-none-any.whl.metadata (10 kB)\n",
            "Requirement already satisfied: anyio<5.0,>=3.0 in /usr/local/lib/python3.11/dist-packages (from gradio) (4.9.0)\n",
            "Collecting fastapi<1.0,>=0.115.2 (from gradio)\n",
            "  Downloading fastapi-0.115.12-py3-none-any.whl.metadata (27 kB)\n",
            "Collecting ffmpy (from gradio)\n",
            "  Downloading ffmpy-0.5.0-py3-none-any.whl.metadata (3.0 kB)\n",
            "Collecting gradio-client==1.10.0 (from gradio)\n",
            "  Downloading gradio_client-1.10.0-py3-none-any.whl.metadata (7.1 kB)\n",
            "Collecting groovy~=0.1 (from gradio)\n",
            "  Downloading groovy-0.1.2-py3-none-any.whl.metadata (6.1 kB)\n",
            "Requirement already satisfied: httpx>=0.24.1 in /usr/local/lib/python3.11/dist-packages (from gradio) (0.28.1)\n",
            "Requirement already satisfied: huggingface-hub>=0.28.1 in /usr/local/lib/python3.11/dist-packages (from gradio) (0.31.1)\n",
            "Requirement already satisfied: jinja2<4.0 in /usr/local/lib/python3.11/dist-packages (from gradio) (3.1.6)\n",
            "Requirement already satisfied: markupsafe<4.0,>=2.0 in /usr/local/lib/python3.11/dist-packages (from gradio) (3.0.2)\n",
            "Requirement already satisfied: numpy<3.0,>=1.0 in /usr/local/lib/python3.11/dist-packages (from gradio) (2.0.2)\n",
            "Requirement already satisfied: orjson~=3.0 in /usr/local/lib/python3.11/dist-packages (from gradio) (3.10.18)\n",
            "Requirement already satisfied: packaging in /usr/local/lib/python3.11/dist-packages (from gradio) (24.2)\n",
            "Requirement already satisfied: pandas<3.0,>=1.0 in /usr/local/lib/python3.11/dist-packages (from gradio) (2.2.3)\n",
            "Requirement already satisfied: pillow<12.0,>=8.0 in /usr/local/lib/python3.11/dist-packages (from gradio) (11.2.1)\n",
            "Requirement already satisfied: pydantic<2.12,>=2.0 in /usr/local/lib/python3.11/dist-packages (from gradio) (2.11.4)\n",
            "Collecting pydub (from gradio)\n",
            "  Downloading pydub-0.25.1-py2.py3-none-any.whl.metadata (1.4 kB)\n",
            "Collecting python-multipart>=0.0.18 (from gradio)\n",
            "  Downloading python_multipart-0.0.20-py3-none-any.whl.metadata (1.8 kB)\n",
            "Requirement already satisfied: pyyaml<7.0,>=5.0 in /usr/local/lib/python3.11/dist-packages (from gradio) (6.0.2)\n",
            "Collecting ruff>=0.9.3 (from gradio)\n",
            "  Downloading ruff-0.11.9-py3-none-manylinux_2_17_x86_64.manylinux2014_x86_64.whl.metadata (25 kB)\n",
            "Collecting safehttpx<0.2.0,>=0.1.6 (from gradio)\n",
            "  Downloading safehttpx-0.1.6-py3-none-any.whl.metadata (4.2 kB)\n",
            "Collecting semantic-version~=2.0 (from gradio)\n",
            "  Downloading semantic_version-2.10.0-py2.py3-none-any.whl.metadata (9.7 kB)\n",
            "Collecting starlette<1.0,>=0.40.0 (from gradio)\n",
            "  Downloading starlette-0.46.2-py3-none-any.whl.metadata (6.2 kB)\n",
            "Collecting tomlkit<0.14.0,>=0.12.0 (from gradio)\n",
            "  Downloading tomlkit-0.13.2-py3-none-any.whl.metadata (2.7 kB)\n",
            "Requirement already satisfied: typer<1.0,>=0.12 in /usr/local/lib/python3.11/dist-packages (from gradio) (0.15.3)\n",
            "Requirement already satisfied: typing-extensions~=4.0 in /usr/local/lib/python3.11/dist-packages (from gradio) (4.13.2)\n",
            "Collecting uvicorn>=0.14.0 (from gradio)\n",
            "  Downloading uvicorn-0.34.2-py3-none-any.whl.metadata (6.5 kB)\n",
            "Requirement already satisfied: fsspec in /usr/local/lib/python3.11/dist-packages (from gradio-client==1.10.0->gradio) (2025.3.0)\n",
            "Requirement already satisfied: websockets<16.0,>=10.0 in /usr/local/lib/python3.11/dist-packages (from gradio-client==1.10.0->gradio) (15.0.1)\n",
            "Requirement already satisfied: idna>=2.8 in /usr/local/lib/python3.11/dist-packages (from anyio<5.0,>=3.0->gradio) (3.10)\n",
            "Requirement already satisfied: sniffio>=1.1 in /usr/local/lib/python3.11/dist-packages (from anyio<5.0,>=3.0->gradio) (1.3.1)\n",
            "Requirement already satisfied: certifi in /usr/local/lib/python3.11/dist-packages (from httpx>=0.24.1->gradio) (2025.4.26)\n",
            "Requirement already satisfied: httpcore==1.* in /usr/local/lib/python3.11/dist-packages (from httpx>=0.24.1->gradio) (1.0.9)\n",
            "Requirement already satisfied: h11>=0.16 in /usr/local/lib/python3.11/dist-packages (from httpcore==1.*->httpx>=0.24.1->gradio) (0.16.0)\n",
            "Requirement already satisfied: filelock in /usr/local/lib/python3.11/dist-packages (from huggingface-hub>=0.28.1->gradio) (3.18.0)\n",
            "Requirement already satisfied: requests in /usr/local/lib/python3.11/dist-packages (from huggingface-hub>=0.28.1->gradio) (2.32.3)\n",
            "Requirement already satisfied: tqdm>=4.42.1 in /usr/local/lib/python3.11/dist-packages (from huggingface-hub>=0.28.1->gradio) (4.67.1)\n",
            "Requirement already satisfied: hf-xet<2.0.0,>=1.1.0 in /usr/local/lib/python3.11/dist-packages (from huggingface-hub>=0.28.1->gradio) (1.1.0)\n",
            "Requirement already satisfied: python-dateutil>=2.8.2 in /usr/local/lib/python3.11/dist-packages (from pandas<3.0,>=1.0->gradio) (2.9.0.post0)\n",
            "Requirement already satisfied: pytz>=2020.1 in /usr/local/lib/python3.11/dist-packages (from pandas<3.0,>=1.0->gradio) (2025.2)\n",
            "Requirement already satisfied: tzdata>=2022.7 in /usr/local/lib/python3.11/dist-packages (from pandas<3.0,>=1.0->gradio) (2025.2)\n",
            "Requirement already satisfied: annotated-types>=0.6.0 in /usr/local/lib/python3.11/dist-packages (from pydantic<2.12,>=2.0->gradio) (0.7.0)\n",
            "Requirement already satisfied: pydantic-core==2.33.2 in /usr/local/lib/python3.11/dist-packages (from pydantic<2.12,>=2.0->gradio) (2.33.2)\n",
            "Requirement already satisfied: typing-inspection>=0.4.0 in /usr/local/lib/python3.11/dist-packages (from pydantic<2.12,>=2.0->gradio) (0.4.0)\n",
            "Requirement already satisfied: click>=8.0.0 in /usr/local/lib/python3.11/dist-packages (from typer<1.0,>=0.12->gradio) (8.1.8)\n",
            "Requirement already satisfied: shellingham>=1.3.0 in /usr/local/lib/python3.11/dist-packages (from typer<1.0,>=0.12->gradio) (1.5.4)\n",
            "Requirement already satisfied: rich>=10.11.0 in /usr/local/lib/python3.11/dist-packages (from typer<1.0,>=0.12->gradio) (13.9.4)\n",
            "Requirement already satisfied: six>=1.5 in /usr/local/lib/python3.11/dist-packages (from python-dateutil>=2.8.2->pandas<3.0,>=1.0->gradio) (1.17.0)\n",
            "Requirement already satisfied: markdown-it-py>=2.2.0 in /usr/local/lib/python3.11/dist-packages (from rich>=10.11.0->typer<1.0,>=0.12->gradio) (3.0.0)\n",
            "Requirement already satisfied: pygments<3.0.0,>=2.13.0 in /usr/local/lib/python3.11/dist-packages (from rich>=10.11.0->typer<1.0,>=0.12->gradio) (2.19.1)\n",
            "Requirement already satisfied: charset-normalizer<4,>=2 in /usr/local/lib/python3.11/dist-packages (from requests->huggingface-hub>=0.28.1->gradio) (3.4.2)\n",
            "Requirement already satisfied: urllib3<3,>=1.21.1 in /usr/local/lib/python3.11/dist-packages (from requests->huggingface-hub>=0.28.1->gradio) (2.4.0)\n",
            "Requirement already satisfied: mdurl~=0.1 in /usr/local/lib/python3.11/dist-packages (from markdown-it-py>=2.2.0->rich>=10.11.0->typer<1.0,>=0.12->gradio) (0.1.2)\n",
            "Downloading gradio-5.29.0-py3-none-any.whl (54.1 MB)\n",
            "\u001b[2K   \u001b[90m━━━━━━━━━━━━━━━━━━━━━━━━━━━━━━━━━━━━━━━━\u001b[0m \u001b[32m54.1/54.1 MB\u001b[0m \u001b[31m8.7 MB/s\u001b[0m eta \u001b[36m0:00:00\u001b[0m\n",
            "\u001b[?25hDownloading gradio_client-1.10.0-py3-none-any.whl (322 kB)\n",
            "\u001b[2K   \u001b[90m━━━━━━━━━━━━━━━━━━━━━━━━━━━━━━━━━━━━━━━━\u001b[0m \u001b[32m322.9/322.9 kB\u001b[0m \u001b[31m16.8 MB/s\u001b[0m eta \u001b[36m0:00:00\u001b[0m\n",
            "\u001b[?25hDownloading aiofiles-24.1.0-py3-none-any.whl (15 kB)\n",
            "Downloading fastapi-0.115.12-py3-none-any.whl (95 kB)\n",
            "\u001b[2K   \u001b[90m━━━━━━━━━━━━━━━━━━━━━━━━━━━━━━━━━━━━━━━━\u001b[0m \u001b[32m95.2/95.2 kB\u001b[0m \u001b[31m5.3 MB/s\u001b[0m eta \u001b[36m0:00:00\u001b[0m\n",
            "\u001b[?25hDownloading groovy-0.1.2-py3-none-any.whl (14 kB)\n",
            "Downloading python_multipart-0.0.20-py3-none-any.whl (24 kB)\n",
            "Downloading ruff-0.11.9-py3-none-manylinux_2_17_x86_64.manylinux2014_x86_64.whl (11.5 MB)\n",
            "\u001b[2K   \u001b[90m━━━━━━━━━━━━━━━━━━━━━━━━━━━━━━━━━━━━━━━━\u001b[0m \u001b[32m11.5/11.5 MB\u001b[0m \u001b[31m59.7 MB/s\u001b[0m eta \u001b[36m0:00:00\u001b[0m\n",
            "\u001b[?25hDownloading safehttpx-0.1.6-py3-none-any.whl (8.7 kB)\n",
            "Downloading semantic_version-2.10.0-py2.py3-none-any.whl (15 kB)\n",
            "Downloading starlette-0.46.2-py3-none-any.whl (72 kB)\n",
            "\u001b[2K   \u001b[90m━━━━━━━━━━━━━━━━━━━━━━━━━━━━━━━━━━━━━━━━\u001b[0m \u001b[32m72.0/72.0 kB\u001b[0m \u001b[31m4.3 MB/s\u001b[0m eta \u001b[36m0:00:00\u001b[0m\n",
            "\u001b[?25hDownloading tomlkit-0.13.2-py3-none-any.whl (37 kB)\n",
            "Downloading uvicorn-0.34.2-py3-none-any.whl (62 kB)\n",
            "\u001b[2K   \u001b[90m━━━━━━━━━━━━━━━━━━━━━━━━━━━━━━━━━━━━━━━━\u001b[0m \u001b[32m62.5/62.5 kB\u001b[0m \u001b[31m2.3 MB/s\u001b[0m eta \u001b[36m0:00:00\u001b[0m\n",
            "\u001b[?25hDownloading ffmpy-0.5.0-py3-none-any.whl (6.0 kB)\n",
            "Downloading pydub-0.25.1-py2.py3-none-any.whl (32 kB)\n",
            "Installing collected packages: pydub, uvicorn, tomlkit, semantic-version, ruff, python-multipart, groovy, ffmpy, aiofiles, starlette, safehttpx, gradio-client, fastapi, gradio\n",
            "Successfully installed aiofiles-24.1.0 fastapi-0.115.12 ffmpy-0.5.0 gradio-5.29.0 gradio-client-1.10.0 groovy-0.1.2 pydub-0.25.1 python-multipart-0.0.20 ruff-0.11.9 safehttpx-0.1.6 semantic-version-2.10.0 starlette-0.46.2 tomlkit-0.13.2 uvicorn-0.34.2\n"
          ]
        }
      ]
    },
    {
      "cell_type": "markdown",
      "source": [
        "# Imports"
      ],
      "metadata": {
        "id": "ugD5MIqDau-J"
      }
    },
    {
      "cell_type": "code",
      "source": [
        "import pyterrier as pt\n",
        "import pandas as pd\n",
        "import numpy as np\n",
        "import matplotlib.pyplot as plt\n",
        "import seaborn as sns\n",
        "from transformers import AutoTokenizer, AutoModel\n",
        "import torch\n",
        "import torch.nn as nn\n",
        "from sentence_transformers import SentenceTransformer\n",
        "from sklearn.metrics.pairwise import cosine_similarity\n",
        "import nltk\n",
        "from nltk.tokenize import word_tokenize\n",
        "from nltk.stem import PorterStemmer\n",
        "from nltk.corpus import stopwords\n",
        "import os\n",
        "import shutil\n",
        "import warnings\n",
        "import time\n",
        "import re\n",
        "import itertools as it"
      ],
      "metadata": {
        "id": "kUtakJ5dZJdv"
      },
      "execution_count": 124,
      "outputs": []
    },
    {
      "cell_type": "code",
      "source": [
        "warnings.filterwarnings(\"ignore\")\n",
        "\n",
        "nltk.download('punkt', quiet=True)\n",
        "nltk.download('stopwords', quiet=True)"
      ],
      "metadata": {
        "colab": {
          "base_uri": "https://localhost:8080/"
        },
        "id": "H_hhkEzibQuN",
        "outputId": "24208317-105f-4963-8c74-f014e0557eda"
      },
      "execution_count": 125,
      "outputs": [
        {
          "output_type": "execute_result",
          "data": {
            "text/plain": [
              "True"
            ]
          },
          "metadata": {},
          "execution_count": 125
        }
      ]
    },
    {
      "cell_type": "code",
      "source": [
        "try:\n",
        "    nltk.data.find('tokenizers/punkt')\n",
        "    nltk.data.find('corpora/stopwords')\n",
        "    print(\"NLTK 'punkt' and 'stopwords' resources found.\")\n",
        "except LookupError:\n",
        "    print(\"Downloading NLTK 'punkt' and 'stopwords'...\")\n",
        "    nltk.download('punkt', quiet=True)\n",
        "    nltk.download('stopwords', quiet=True)\n",
        "    print(\"NLTK resources downloaded.\")\n",
        "nltk_stop_words_for_sbert = set(stopwords.words('english'))"
      ],
      "metadata": {
        "colab": {
          "base_uri": "https://localhost:8080/"
        },
        "id": "04ByrUlNZKcd",
        "outputId": "888008b1-b44c-41ce-a5d9-c8185393bcca"
      },
      "execution_count": 126,
      "outputs": [
        {
          "output_type": "stream",
          "name": "stdout",
          "text": [
            "NLTK 'punkt' and 'stopwords' resources found.\n"
          ]
        }
      ]
    },
    {
      "cell_type": "code",
      "source": [
        "if not pt.java.started():\n",
        "    pt.java.init()"
      ],
      "metadata": {
        "colab": {
          "base_uri": "https://localhost:8080/"
        },
        "id": "8NINsgrgZOFz",
        "outputId": "60f67bcd-db74-409d-e252-2ec734799560"
      },
      "execution_count": 11,
      "outputs": [
        {
          "output_type": "stream",
          "name": "stdout",
          "text": [
            "terrier-assemblies 5.11 jar-with-dependencies not found, downloading to /root/.pyterrier...\n",
            "Done\n",
            "terrier-python-helper 0.0.8 jar not found, downloading to /root/.pyterrier...\n",
            "Done\n"
          ]
        },
        {
          "output_type": "stream",
          "name": "stderr",
          "text": [
            "Java started and loaded: pyterrier.java, pyterrier.terrier.java [version=5.11 (build: craig.macdonald 2025-01-13 21:29), helper_version=0.0.8]\n"
          ]
        }
      ]
    },
    {
      "cell_type": "code",
      "source": [
        "nltk_stop_words = set(stopwords.words('english'))\n",
        "stemmer = nltk.PorterStemmer()"
      ],
      "metadata": {
        "id": "dl3eiWTtbWbs"
      },
      "execution_count": 12,
      "outputs": []
    },
    {
      "cell_type": "markdown",
      "source": [
        "# Constant Parameters"
      ],
      "metadata": {
        "id": "ZQj1S7a3a0D8"
      }
    },
    {
      "cell_type": "code",
      "source": [
        "DOC_SUBSET_SIZE = 50000\n",
        "QUERY_SUBSET_SIZE_EVAL = 10\n",
        "CANDIDATES_FOR_RERANK_MONOBERT_EVAL = 10\n",
        "CANDIDATES_FOR_RERANK_DUOBERT_EVAL = 10\n",
        "CANDIDATES_FOR_RERANK_DEMO = 10"
      ],
      "metadata": {
        "id": "uwGqKsgfZP4w"
      },
      "execution_count": 129,
      "outputs": []
    },
    {
      "cell_type": "markdown",
      "source": [
        "## Nerual Expander  "
      ],
      "metadata": {
        "id": "cc7zqzuEbarv"
      }
    },
    {
      "cell_type": "code",
      "source": [
        "NQE_MODEL_NAME = 'sentence-transformers/all-MiniLM-L6-v2'\n",
        "NQE_MAX_CANDIDATE_TERMS = 50\n",
        "NQE_NUM_EXP_DOCS = 5\n",
        "NQE_EXP_TERMS_COUNT = 3"
      ],
      "metadata": {
        "id": "rI4mGIfuZVwP"
      },
      "execution_count": 29,
      "outputs": []
    },
    {
      "cell_type": "markdown",
      "source": [
        "# Bert Re-ranker"
      ],
      "metadata": {
        "id": "j_-qyVl-bfPO"
      }
    },
    {
      "cell_type": "code",
      "source": [
        "BERT_MODEL_NAME = 'bert-base-uncased'\n",
        "MONOBERT_BATCH_SIZE = 16\n",
        "MONOBERT_MAX_LENGTH = 256\n",
        "DUOBERT_BATCH_SIZE = 4\n",
        "DUOBERT_MAX_LENGTH = 384"
      ],
      "metadata": {
        "id": "kJs_FvL8ZXIB"
      },
      "execution_count": 30,
      "outputs": []
    },
    {
      "cell_type": "markdown",
      "source": [
        "# Data Loading"
      ],
      "metadata": {
        "id": "dszW5LYabmOS"
      }
    },
    {
      "cell_type": "code",
      "source": [
        "dataset_name = 'irds:cord19/trec-covid'\n",
        "dataset = pt.get_dataset(dataset_name)"
      ],
      "metadata": {
        "id": "96qztADgZnHA"
      },
      "execution_count": 31,
      "outputs": []
    },
    {
      "cell_type": "code",
      "source": [
        "queries_df_orig_full = dataset.get_topics()\n",
        "qrels_df_orig_full = dataset.get_qrels()"
      ],
      "metadata": {
        "colab": {
          "base_uri": "https://localhost:8080/"
        },
        "id": "0BlqK7PIZo_v",
        "outputId": "9e630bdb-a89b-4a32-93d4-be1ed584fb59"
      },
      "execution_count": 32,
      "outputs": [
        {
          "output_type": "stream",
          "name": "stdout",
          "text": [
            "There are multiple query fields available: ('title', 'description', 'narrative'). To use with pyterrier, provide variant or modify dataframe to add query column.\n"
          ]
        }
      ]
    },
    {
      "cell_type": "code",
      "source": [
        "queries_df_orig_full['qid'] = queries_df_orig_full['qid'].astype(str)\n",
        "qrels_df_orig_full['qid'] = qrels_df_orig_full['qid'].astype(str)\n",
        "qrels_df_orig_full['docno'] = qrels_df_orig_full['docno'].astype(str)\n",
        "if 'label' in qrels_df_orig_full.columns:\n",
        "    qrels_df_orig_full['label'] = qrels_df_orig_full['label'].astype(int)"
      ],
      "metadata": {
        "colab": {
          "base_uri": "https://localhost:8080/",
          "height": 241
        },
        "id": "6dA5zSt3ZvH3",
        "outputId": "f6b1f6bd-947e-4783-ffff-8e1b9822f7bf"
      },
      "execution_count": 34,
      "outputs": [
        {
          "output_type": "stream",
          "name": "stdout",
          "text": [
            "Original CORD-19 queries: 50\n",
            "Original CORD-19 qrels: 69318\n"
          ]
        },
        {
          "output_type": "execute_result",
          "data": {
            "text/plain": [
              "  qid     docno  label iteration\n",
              "0   1  005b2j4b      2       4.5\n",
              "1   1  00fmeepz      1         4\n",
              "2   1  010vptx3      2       0.5\n",
              "3   1  0194oljo      1       2.5\n",
              "4   1  021q9884      1         4"
            ],
            "text/html": [
              "\n",
              "  <div id=\"df-736a9009-5656-44b9-84bd-502c52532eb1\" class=\"colab-df-container\">\n",
              "    <div>\n",
              "<style scoped>\n",
              "    .dataframe tbody tr th:only-of-type {\n",
              "        vertical-align: middle;\n",
              "    }\n",
              "\n",
              "    .dataframe tbody tr th {\n",
              "        vertical-align: top;\n",
              "    }\n",
              "\n",
              "    .dataframe thead th {\n",
              "        text-align: right;\n",
              "    }\n",
              "</style>\n",
              "<table border=\"1\" class=\"dataframe\">\n",
              "  <thead>\n",
              "    <tr style=\"text-align: right;\">\n",
              "      <th></th>\n",
              "      <th>qid</th>\n",
              "      <th>docno</th>\n",
              "      <th>label</th>\n",
              "      <th>iteration</th>\n",
              "    </tr>\n",
              "  </thead>\n",
              "  <tbody>\n",
              "    <tr>\n",
              "      <th>0</th>\n",
              "      <td>1</td>\n",
              "      <td>005b2j4b</td>\n",
              "      <td>2</td>\n",
              "      <td>4.5</td>\n",
              "    </tr>\n",
              "    <tr>\n",
              "      <th>1</th>\n",
              "      <td>1</td>\n",
              "      <td>00fmeepz</td>\n",
              "      <td>1</td>\n",
              "      <td>4</td>\n",
              "    </tr>\n",
              "    <tr>\n",
              "      <th>2</th>\n",
              "      <td>1</td>\n",
              "      <td>010vptx3</td>\n",
              "      <td>2</td>\n",
              "      <td>0.5</td>\n",
              "    </tr>\n",
              "    <tr>\n",
              "      <th>3</th>\n",
              "      <td>1</td>\n",
              "      <td>0194oljo</td>\n",
              "      <td>1</td>\n",
              "      <td>2.5</td>\n",
              "    </tr>\n",
              "    <tr>\n",
              "      <th>4</th>\n",
              "      <td>1</td>\n",
              "      <td>021q9884</td>\n",
              "      <td>1</td>\n",
              "      <td>4</td>\n",
              "    </tr>\n",
              "  </tbody>\n",
              "</table>\n",
              "</div>\n",
              "    <div class=\"colab-df-buttons\">\n",
              "\n",
              "  <div class=\"colab-df-container\">\n",
              "    <button class=\"colab-df-convert\" onclick=\"convertToInteractive('df-736a9009-5656-44b9-84bd-502c52532eb1')\"\n",
              "            title=\"Convert this dataframe to an interactive table.\"\n",
              "            style=\"display:none;\">\n",
              "\n",
              "  <svg xmlns=\"http://www.w3.org/2000/svg\" height=\"24px\" viewBox=\"0 -960 960 960\">\n",
              "    <path d=\"M120-120v-720h720v720H120Zm60-500h600v-160H180v160Zm220 220h160v-160H400v160Zm0 220h160v-160H400v160ZM180-400h160v-160H180v160Zm440 0h160v-160H620v160ZM180-180h160v-160H180v160Zm440 0h160v-160H620v160Z\"/>\n",
              "  </svg>\n",
              "    </button>\n",
              "\n",
              "  <style>\n",
              "    .colab-df-container {\n",
              "      display:flex;\n",
              "      gap: 12px;\n",
              "    }\n",
              "\n",
              "    .colab-df-convert {\n",
              "      background-color: #E8F0FE;\n",
              "      border: none;\n",
              "      border-radius: 50%;\n",
              "      cursor: pointer;\n",
              "      display: none;\n",
              "      fill: #1967D2;\n",
              "      height: 32px;\n",
              "      padding: 0 0 0 0;\n",
              "      width: 32px;\n",
              "    }\n",
              "\n",
              "    .colab-df-convert:hover {\n",
              "      background-color: #E2EBFA;\n",
              "      box-shadow: 0px 1px 2px rgba(60, 64, 67, 0.3), 0px 1px 3px 1px rgba(60, 64, 67, 0.15);\n",
              "      fill: #174EA6;\n",
              "    }\n",
              "\n",
              "    .colab-df-buttons div {\n",
              "      margin-bottom: 4px;\n",
              "    }\n",
              "\n",
              "    [theme=dark] .colab-df-convert {\n",
              "      background-color: #3B4455;\n",
              "      fill: #D2E3FC;\n",
              "    }\n",
              "\n",
              "    [theme=dark] .colab-df-convert:hover {\n",
              "      background-color: #434B5C;\n",
              "      box-shadow: 0px 1px 3px 1px rgba(0, 0, 0, 0.15);\n",
              "      filter: drop-shadow(0px 1px 2px rgba(0, 0, 0, 0.3));\n",
              "      fill: #FFFFFF;\n",
              "    }\n",
              "  </style>\n",
              "\n",
              "    <script>\n",
              "      const buttonEl =\n",
              "        document.querySelector('#df-736a9009-5656-44b9-84bd-502c52532eb1 button.colab-df-convert');\n",
              "      buttonEl.style.display =\n",
              "        google.colab.kernel.accessAllowed ? 'block' : 'none';\n",
              "\n",
              "      async function convertToInteractive(key) {\n",
              "        const element = document.querySelector('#df-736a9009-5656-44b9-84bd-502c52532eb1');\n",
              "        const dataTable =\n",
              "          await google.colab.kernel.invokeFunction('convertToInteractive',\n",
              "                                                    [key], {});\n",
              "        if (!dataTable) return;\n",
              "\n",
              "        const docLinkHtml = 'Like what you see? Visit the ' +\n",
              "          '<a target=\"_blank\" href=https://colab.research.google.com/notebooks/data_table.ipynb>data table notebook</a>'\n",
              "          + ' to learn more about interactive tables.';\n",
              "        element.innerHTML = '';\n",
              "        dataTable['output_type'] = 'display_data';\n",
              "        await google.colab.output.renderOutput(dataTable, element);\n",
              "        const docLink = document.createElement('div');\n",
              "        docLink.innerHTML = docLinkHtml;\n",
              "        element.appendChild(docLink);\n",
              "      }\n",
              "    </script>\n",
              "  </div>\n",
              "\n",
              "\n",
              "    <div id=\"df-b4a4dd6b-a96f-4da9-a021-cb12287bc119\">\n",
              "      <button class=\"colab-df-quickchart\" onclick=\"quickchart('df-b4a4dd6b-a96f-4da9-a021-cb12287bc119')\"\n",
              "                title=\"Suggest charts\"\n",
              "                style=\"display:none;\">\n",
              "\n",
              "<svg xmlns=\"http://www.w3.org/2000/svg\" height=\"24px\"viewBox=\"0 0 24 24\"\n",
              "     width=\"24px\">\n",
              "    <g>\n",
              "        <path d=\"M19 3H5c-1.1 0-2 .9-2 2v14c0 1.1.9 2 2 2h14c1.1 0 2-.9 2-2V5c0-1.1-.9-2-2-2zM9 17H7v-7h2v7zm4 0h-2V7h2v10zm4 0h-2v-4h2v4z\"/>\n",
              "    </g>\n",
              "</svg>\n",
              "      </button>\n",
              "\n",
              "<style>\n",
              "  .colab-df-quickchart {\n",
              "      --bg-color: #E8F0FE;\n",
              "      --fill-color: #1967D2;\n",
              "      --hover-bg-color: #E2EBFA;\n",
              "      --hover-fill-color: #174EA6;\n",
              "      --disabled-fill-color: #AAA;\n",
              "      --disabled-bg-color: #DDD;\n",
              "  }\n",
              "\n",
              "  [theme=dark] .colab-df-quickchart {\n",
              "      --bg-color: #3B4455;\n",
              "      --fill-color: #D2E3FC;\n",
              "      --hover-bg-color: #434B5C;\n",
              "      --hover-fill-color: #FFFFFF;\n",
              "      --disabled-bg-color: #3B4455;\n",
              "      --disabled-fill-color: #666;\n",
              "  }\n",
              "\n",
              "  .colab-df-quickchart {\n",
              "    background-color: var(--bg-color);\n",
              "    border: none;\n",
              "    border-radius: 50%;\n",
              "    cursor: pointer;\n",
              "    display: none;\n",
              "    fill: var(--fill-color);\n",
              "    height: 32px;\n",
              "    padding: 0;\n",
              "    width: 32px;\n",
              "  }\n",
              "\n",
              "  .colab-df-quickchart:hover {\n",
              "    background-color: var(--hover-bg-color);\n",
              "    box-shadow: 0 1px 2px rgba(60, 64, 67, 0.3), 0 1px 3px 1px rgba(60, 64, 67, 0.15);\n",
              "    fill: var(--button-hover-fill-color);\n",
              "  }\n",
              "\n",
              "  .colab-df-quickchart-complete:disabled,\n",
              "  .colab-df-quickchart-complete:disabled:hover {\n",
              "    background-color: var(--disabled-bg-color);\n",
              "    fill: var(--disabled-fill-color);\n",
              "    box-shadow: none;\n",
              "  }\n",
              "\n",
              "  .colab-df-spinner {\n",
              "    border: 2px solid var(--fill-color);\n",
              "    border-color: transparent;\n",
              "    border-bottom-color: var(--fill-color);\n",
              "    animation:\n",
              "      spin 1s steps(1) infinite;\n",
              "  }\n",
              "\n",
              "  @keyframes spin {\n",
              "    0% {\n",
              "      border-color: transparent;\n",
              "      border-bottom-color: var(--fill-color);\n",
              "      border-left-color: var(--fill-color);\n",
              "    }\n",
              "    20% {\n",
              "      border-color: transparent;\n",
              "      border-left-color: var(--fill-color);\n",
              "      border-top-color: var(--fill-color);\n",
              "    }\n",
              "    30% {\n",
              "      border-color: transparent;\n",
              "      border-left-color: var(--fill-color);\n",
              "      border-top-color: var(--fill-color);\n",
              "      border-right-color: var(--fill-color);\n",
              "    }\n",
              "    40% {\n",
              "      border-color: transparent;\n",
              "      border-right-color: var(--fill-color);\n",
              "      border-top-color: var(--fill-color);\n",
              "    }\n",
              "    60% {\n",
              "      border-color: transparent;\n",
              "      border-right-color: var(--fill-color);\n",
              "    }\n",
              "    80% {\n",
              "      border-color: transparent;\n",
              "      border-right-color: var(--fill-color);\n",
              "      border-bottom-color: var(--fill-color);\n",
              "    }\n",
              "    90% {\n",
              "      border-color: transparent;\n",
              "      border-bottom-color: var(--fill-color);\n",
              "    }\n",
              "  }\n",
              "</style>\n",
              "\n",
              "      <script>\n",
              "        async function quickchart(key) {\n",
              "          const quickchartButtonEl =\n",
              "            document.querySelector('#' + key + ' button');\n",
              "          quickchartButtonEl.disabled = true;  // To prevent multiple clicks.\n",
              "          quickchartButtonEl.classList.add('colab-df-spinner');\n",
              "          try {\n",
              "            const charts = await google.colab.kernel.invokeFunction(\n",
              "                'suggestCharts', [key], {});\n",
              "          } catch (error) {\n",
              "            console.error('Error during call to suggestCharts:', error);\n",
              "          }\n",
              "          quickchartButtonEl.classList.remove('colab-df-spinner');\n",
              "          quickchartButtonEl.classList.add('colab-df-quickchart-complete');\n",
              "        }\n",
              "        (() => {\n",
              "          let quickchartButtonEl =\n",
              "            document.querySelector('#df-b4a4dd6b-a96f-4da9-a021-cb12287bc119 button');\n",
              "          quickchartButtonEl.style.display =\n",
              "            google.colab.kernel.accessAllowed ? 'block' : 'none';\n",
              "        })();\n",
              "      </script>\n",
              "    </div>\n",
              "\n",
              "    </div>\n",
              "  </div>\n"
            ],
            "application/vnd.google.colaboratory.intrinsic+json": {
              "type": "dataframe",
              "variable_name": "qrels_df_orig",
              "summary": "{\n  \"name\": \"qrels_df_orig\",\n  \"rows\": 69318,\n  \"fields\": [\n    {\n      \"column\": \"qid\",\n      \"properties\": {\n        \"dtype\": \"category\",\n        \"num_unique_values\": 50,\n        \"samples\": [\n          \"14\",\n          \"40\",\n          \"31\"\n        ],\n        \"semantic_type\": \"\",\n        \"description\": \"\"\n      }\n    },\n    {\n      \"column\": \"docno\",\n      \"properties\": {\n        \"dtype\": \"string\",\n        \"num_unique_values\": 37924,\n        \"samples\": [\n          \"ka3n9pft\",\n          \"abqrh2aw\",\n          \"xpgzhns8\"\n        ],\n        \"semantic_type\": \"\",\n        \"description\": \"\"\n      }\n    },\n    {\n      \"column\": \"label\",\n      \"properties\": {\n        \"dtype\": \"number\",\n        \"std\": 0,\n        \"min\": -1,\n        \"max\": 2,\n        \"num_unique_values\": 4,\n        \"samples\": [\n          1,\n          -1,\n          2\n        ],\n        \"semantic_type\": \"\",\n        \"description\": \"\"\n      }\n    },\n    {\n      \"column\": \"iteration\",\n      \"properties\": {\n        \"dtype\": \"category\",\n        \"num_unique_values\": 10,\n        \"samples\": [\n          \"2\",\n          \"4\",\n          \"3.5\"\n        ],\n        \"semantic_type\": \"\",\n        \"description\": \"\"\n      }\n    }\n  ]\n}"
            }
          },
          "metadata": {},
          "execution_count": 34
        }
      ]
    },
    {
      "cell_type": "code",
      "source": [
        "print(f\"Original CORD-19 queries loaded: {len(queries_df_orig_full)}\")\n",
        "print(f\"Original CORD-19 qrels loaded: {len(qrels_df_orig_full)}\")"
      ],
      "metadata": {
        "colab": {
          "base_uri": "https://localhost:8080/"
        },
        "id": "SOIik8dIZwdW",
        "outputId": "4b7ec1e4-870e-4d98-d062-6fc61ba375c5"
      },
      "execution_count": 127,
      "outputs": [
        {
          "output_type": "stream",
          "name": "stdout",
          "text": [
            "Original CORD-19 queries loaded: 50\n",
            "Original CORD-19 qrels loaded: 69318\n"
          ]
        }
      ]
    },
    {
      "cell_type": "code",
      "source": [
        "print(f\"Loading first {DOC_SUBSET_SIZE} documents from CORD-19 corpus to form the primary document set...\")\n",
        "docs_for_subset_list = list(it.islice(dataset.get_corpus_iter(), DOC_SUBSET_SIZE))"
      ],
      "metadata": {
        "colab": {
          "base_uri": "https://localhost:8080/",
          "height": 66,
          "referenced_widgets": [
            "b26d68653c58436788d80d308379b17d",
            "ff41cd9daa034544924c7447b40fc261",
            "992d5edc06d94c5f94624dcd8da13981",
            "b0c206d7c9e3424aaba76568e8b8ce07",
            "b419ac8bfaf647d2b030ed3b5339e55a",
            "e6e33f7e2aa9446a9580312410204fb4",
            "9671f47bf5194b158deca67228b9be00",
            "f79c94d20c2643f0a993cfda5dabed86",
            "f8dcc54d05f64ef185a8967d99d0ea08",
            "1f06a8e9c21241719368c6da8d650f55",
            "7437bb180a044093b28c5533032f4350"
          ]
        },
        "id": "yJe55AX7Zzq3",
        "outputId": "6d31f5b2-bdcb-402f-f9d0-6e8222e96b79"
      },
      "execution_count": 130,
      "outputs": [
        {
          "output_type": "stream",
          "name": "stdout",
          "text": [
            "Loading first 50000 documents from CORD-19 corpus to form the primary document set...\n"
          ]
        },
        {
          "output_type": "display_data",
          "data": {
            "text/plain": [
              "cord19/trec-covid documents:   0%|          | 0/192509 [00:00<?, ?it/s]"
            ],
            "application/vnd.jupyter.widget-view+json": {
              "version_major": 2,
              "version_minor": 0,
              "model_id": "b26d68653c58436788d80d308379b17d"
            }
          },
          "metadata": {}
        }
      ]
    },
    {
      "cell_type": "code",
      "source": [
        "if not docs_for_subset_list:\n",
        "    print(\"CRITICAL: No documents could be loaded from corpus iterator. Index will be empty.\")\n",
        "    documents_df_subset = pd.DataFrame(columns=['docno', 'text'])\n",
        "else:\n",
        "    documents_df_subset = pd.DataFrame(docs_for_subset_list)"
      ],
      "metadata": {
        "id": "L-2phk_BZ1nq"
      },
      "execution_count": 131,
      "outputs": []
    },
    {
      "cell_type": "code",
      "source": [
        "if not documents_df_subset.empty:\n",
        "    if 'doc_id' in documents_df_subset.columns and 'docno' not in documents_df_subset.columns:\n",
        "        documents_df_subset.rename(columns={'doc_id': 'docno'}, inplace=True)\n",
        "    documents_df_subset['docno'] = documents_df_subset['docno'].astype(str)\n",
        "\n",
        "    if 'text' not in documents_df_subset.columns:\n",
        "        if 'title' in documents_df_subset.columns and 'abstract' in documents_df_subset.columns:\n",
        "            documents_df_subset['text'] = documents_df_subset['title'].fillna('') + \" \" + documents_df_subset['abstract'].fillna('')\n",
        "        elif 'title' in documents_df_subset.columns:\n",
        "             documents_df_subset['text'] = documents_df_subset['title'].fillna('')\n",
        "        else:\n",
        "            print(\"Warning: 'text' column missing in documents_df_subset and could not be constructed. Using empty strings.\")\n",
        "            documents_df_subset['text'] = \"\"\n",
        "    documents_df_subset['text'] = documents_df_subset['text'].astype(str).fillna(\"\")\n",
        "else:\n",
        "    print(\"Warning: docs_for_subset_list was empty. documents_df_subset is empty.\")\n",
        "    documents_df_subset = pd.DataFrame(columns=['docno', 'text'])"
      ],
      "metadata": {
        "id": "dg2WKl-IZ3U5"
      },
      "execution_count": 132,
      "outputs": []
    },
    {
      "cell_type": "code",
      "source": [
        "documents_df_orig = documents_df_subset.copy()\n",
        "print(f\"Created `documents_df_subset` (for indexing) and `documents_df_orig` (for text lookup) with {len(documents_df_subset)} documents.\")"
      ],
      "metadata": {
        "colab": {
          "base_uri": "https://localhost:8080/"
        },
        "id": "2soBjwS8Z4vn",
        "outputId": "7c6d765f-6db8-47db-c41e-93749aa76e1c"
      },
      "execution_count": 133,
      "outputs": [
        {
          "output_type": "stream",
          "name": "stdout",
          "text": [
            "Created `documents_df_subset` (for indexing) and `documents_df_orig` (for text lookup) with 50000 documents.\n"
          ]
        }
      ]
    },
    {
      "cell_type": "code",
      "source": [
        "qrels_df_subset = qrels_df_orig_full[qrels_df_orig_full['docno'].isin(documents_df_subset['docno'])].copy()\n",
        "\n",
        "valid_qids_for_subset = qrels_df_subset['qid'].unique()\n",
        "queries_df_subset = queries_df_orig_full[queries_df_orig_full['qid'].isin(valid_qids_for_subset)].copy()"
      ],
      "metadata": {
        "id": "238N4ZrDZ7ym"
      },
      "execution_count": 135,
      "outputs": []
    },
    {
      "cell_type": "code",
      "source": [
        "qrels_df_subset = qrels_df_subset[qrels_df_subset['qid'].isin(queries_df_subset['qid'])].copy()\n"
      ],
      "metadata": {
        "id": "5WkTv8VVZ9lV"
      },
      "execution_count": 136,
      "outputs": []
    },
    {
      "cell_type": "code",
      "source": [
        "print(f\"Aligned operational subset counts: \"\n",
        "      f\"documents indexed (documents_df_subset): {len(documents_df_subset)}, \"\n",
        "      f\"queries with relevant docs in index (queries_df_subset): {len(queries_df_subset)}, \"\n",
        "      f\"qrels for these (qrels_df_subset): {len(qrels_df_subset)}\")"
      ],
      "metadata": {
        "colab": {
          "base_uri": "https://localhost:8080/"
        },
        "id": "6BOqtu62Z-0S",
        "outputId": "cdcdd5ce-7ca0-4c50-b47e-1eb2ad02fbf4"
      },
      "execution_count": 137,
      "outputs": [
        {
          "output_type": "stream",
          "name": "stdout",
          "text": [
            "Aligned operational subset counts: documents indexed (documents_df_subset): 50000, queries with relevant docs in index (queries_df_subset): 50, qrels for these (qrels_df_subset): 8410\n"
          ]
        }
      ]
    },
    {
      "cell_type": "code",
      "source": [
        "if documents_df_subset.empty :\n",
        "    print(\"CRITICAL FALLBACK: documents_df_subset is empty. Adding dummy doc for index.\")\n",
        "    documents_df_subset = pd.DataFrame([{'docno': 'dummy_doc_final_idx', 'text': 'final dummy doc text for index'}])\n",
        "    documents_df_orig = documents_df_subset.copy()\n",
        "if queries_df_subset.empty:\n",
        "    print(\"FALLBACK: queries_df_subset is empty. Adding dummy query for operations.\")\n",
        "    queries_df_subset = pd.DataFrame([{'qid': 'dummy_qid_final_ops', 'query': 'final dummy query for ops'}])\n",
        "    qrels_df_subset = pd.DataFrame(columns=['qid', 'docno', 'label'])\n",
        "if qrels_df_subset.empty and not queries_df_subset.empty and not (len(queries_df_subset)==1 and queries_df_subset.iloc[0]['qid'] == 'dummy_qid_final_ops'):\n",
        "    print(\"NOTE: qrels_df_subset is empty, but queries_df_subset exists (and is not dummy). Evaluation will find no relevant items.\")\n",
        "\n",
        "if 'text' not in documents_df_subset.columns:\n",
        "     documents_df_subset['text'] = \"\"\n",
        "documents_df_subset['text'] = documents_df_subset['text'].fillna(\"\")"
      ],
      "metadata": {
        "id": "Jw_aT5xfcYd_"
      },
      "execution_count": 138,
      "outputs": []
    },
    {
      "cell_type": "code",
      "source": [],
      "metadata": {
        "id": "E8KdG9oBcaAi"
      },
      "execution_count": 139,
      "outputs": []
    },
    {
      "cell_type": "code",
      "source": [
        "def preprocess_document_text(text):\n",
        "    if not isinstance(text, str):\n",
        "        return \"\"\n",
        "    text = text.lower()\n",
        "    text = re.sub(r'http\\S+', '', text)\n",
        "    text = re.sub(r'[^\\w\\s]', '', text)\n",
        "    text = re.sub(r'\\d+', '', text)\n",
        "    text = re.sub(r'\\s+', ' ', text).strip()\n",
        "\n",
        "    tokens = word_tokenize(text)\n",
        "    processed_tokens = [stemmer.stem(word) for word in tokens if word not in nltk_stop_words and word.isalpha()]\n",
        "    return ' '.join(processed_tokens)"
      ],
      "metadata": {
        "id": "V3HdU_E7clAs"
      },
      "execution_count": 140,
      "outputs": []
    },
    {
      "cell_type": "code",
      "source": [
        "if not documents_df_subset.empty:\n",
        "    documents_df_subset['processed_text'] = documents_df_subset['text'].apply(preprocess_document_text)\n",
        "    if not documents_df_subset.empty and 'text' in documents_df_subset.columns and len(documents_df_subset.iloc[0]['text']) > 0 :\n",
        "        print(\"Sample preprocessed document:\")\n",
        "        print(f\"Original: {documents_df_subset.iloc[0]['text'][:200]}\")\n",
        "        print(f\"Processed: {documents_df_subset.iloc[0]['processed_text'][:200]}\")\n",
        "    else:\n",
        "        print(\"Sample document is empty or not available for display after preprocessing attempt.\")\n",
        "else:\n",
        "    print(\"documents_df_subset is empty. Skipping preprocessing display.\")\n",
        "    if 'processed_text' not in documents_df_subset.columns:\n",
        "        documents_df_subset['processed_text'] = \"\""
      ],
      "metadata": {
        "colab": {
          "base_uri": "https://localhost:8080/"
        },
        "id": "ARraDpc2cqKB",
        "outputId": "77878d92-e6ff-41cc-c234-616708d60e4a"
      },
      "execution_count": 141,
      "outputs": [
        {
          "output_type": "stream",
          "name": "stdout",
          "text": [
            "Sample preprocessed document:\n",
            "Original: Clinical features of culture-proven Mycoplasma pneumoniae infections at King Abdulaziz University Hospital, Jeddah, Saudi Arabia OBJECTIVE: This retrospective chart review describes the epidemiology a\n",
            "Processed: clinic featur cultureproven mycoplasma pneumonia infect king abdulaziz univers hospit jeddah saudi arabia object retrospect chart review describ epidemiolog clinic featur patient cultureproven mycopla\n"
          ]
        }
      ]
    },
    {
      "cell_type": "code",
      "source": [
        "index_path = \"./cord19_index_phased_notebook_corrected_v3\"\n",
        "if os.path.exists(index_path):\n",
        "    shutil.rmtree(index_path)"
      ],
      "metadata": {
        "id": "jjDAajm4co3R"
      },
      "execution_count": 142,
      "outputs": []
    },
    {
      "cell_type": "code",
      "source": [
        "if not documents_df_subset.empty and 'processed_text' in documents_df_subset.columns:\n",
        "    docs_for_indexing = documents_df_subset[['docno', 'processed_text']].rename(\n",
        "        columns={'processed_text': 'text'}\n",
        "    ).to_dict(orient='records')\n",
        "    if not docs_for_indexing:\n",
        "        print(\"Warning: docs_for_indexing is an empty list after to_dict. Adding dummy for indexer.\")\n",
        "        docs_for_indexing = [{'docno': 'dummy_idx_empty_list_fallback', 'text': 'empty content fallback'}]\n",
        "else:\n",
        "    print(\"Warning: `documents_df_subset` is empty or `processed_text` missing. Index will be built on dummy document.\")\n",
        "    docs_for_indexing = [{'docno': 'dummy_idx_subset_empty_fallback', 'text': 'dummy index content fallback'}]"
      ],
      "metadata": {
        "id": "mPgCITRN9j4h"
      },
      "execution_count": 143,
      "outputs": []
    },
    {
      "cell_type": "markdown",
      "source": [
        "# Indexing"
      ],
      "metadata": {
        "id": "A__lqfYJc7mW"
      }
    },
    {
      "cell_type": "code",
      "source": [
        "indexer = pt.IterDictIndexer(index_path, overwrite=True, meta={'docno': 20, 'text': 4096})\n",
        "index_ref = indexer.index(docs_for_indexing)\n",
        "index = pt.IndexFactory.of(index_ref)"
      ],
      "metadata": {
        "colab": {
          "base_uri": "https://localhost:8080/"
        },
        "id": "cc1H8Hfgc8zM",
        "outputId": "83effc89-49f2-423b-bcfe-ee12da138138"
      },
      "execution_count": 144,
      "outputs": [
        {
          "output_type": "stream",
          "name": "stdout",
          "text": [
            "13:27:34.744 [ForkJoinPool-17-worker-3] WARN org.terrier.structures.indexing.Indexer -- Adding an empty document to the index (8is9x9sc) - further warnings are suppressed\n",
            "13:28:04.207 [ForkJoinPool-17-worker-3] ERROR org.terrier.structures.indexing.Indexer -- Could not finish MetaIndexBuilder: \n",
            "java.io.IOException: Key 8lqzfj2e is not unique: 37597,11755\n",
            "For MetaIndex, to suppress, set metaindex.compressed.reverse.allow.duplicates=true\n",
            "\tat org.terrier.structures.collections.FSOrderedMapFile$MultiFSOMapWriter.mergeTwo(FSOrderedMapFile.java:1374)\n",
            "\tat org.terrier.structures.collections.FSOrderedMapFile$MultiFSOMapWriter.close(FSOrderedMapFile.java:1308)\n",
            "\tat org.terrier.structures.indexing.BaseMetaIndexBuilder.close(BaseMetaIndexBuilder.java:321)\n",
            "\tat org.terrier.structures.indexing.classical.BasicIndexer.indexDocuments(BasicIndexer.java:270)\n",
            "\tat org.terrier.structures.indexing.classical.BasicIndexer.createDirectIndex(BasicIndexer.java:388)\n",
            "\tat org.terrier.structures.indexing.Indexer.index(Indexer.java:377)\n",
            "\tat org.terrier.python.ParallelIndexer$3.apply(ParallelIndexer.java:131)\n",
            "\tat org.terrier.python.ParallelIndexer$3.apply(ParallelIndexer.java:120)\n",
            "\tat java.base/java.util.stream.ReferencePipeline$3$1.accept(ReferencePipeline.java:195)\n",
            "\tat java.base/java.util.Spliterators$ArraySpliterator.forEachRemaining(Spliterators.java:948)\n",
            "\tat java.base/java.util.stream.AbstractPipeline.copyInto(AbstractPipeline.java:484)\n",
            "\tat java.base/java.util.stream.AbstractPipeline.wrapAndCopyInto(AbstractPipeline.java:474)\n",
            "\tat java.base/java.util.stream.ReduceOps$ReduceTask.doLeaf(ReduceOps.java:952)\n",
            "\tat java.base/java.util.stream.ReduceOps$ReduceTask.doLeaf(ReduceOps.java:926)\n",
            "\tat java.base/java.util.stream.AbstractTask.compute(AbstractTask.java:327)\n",
            "\tat java.base/java.util.concurrent.CountedCompleter.exec(CountedCompleter.java:746)\n",
            "\tat java.base/java.util.concurrent.ForkJoinTask.doExec(ForkJoinTask.java:290)\n",
            "\tat java.base/java.util.concurrent.ForkJoinTask.doInvoke(ForkJoinTask.java:408)\n",
            "\tat java.base/java.util.concurrent.ForkJoinTask.invoke(ForkJoinTask.java:736)\n",
            "\tat java.base/java.util.stream.ReduceOps$ReduceOp.evaluateParallel(ReduceOps.java:919)\n",
            "\tat java.base/java.util.stream.AbstractPipeline.evaluate(AbstractPipeline.java:233)\n",
            "\tat java.base/java.util.stream.ReferencePipeline.reduce(ReferencePipeline.java:558)\n",
            "\tat org.terrier.python.ParallelIndexer$4.call(ParallelIndexer.java:140)\n",
            "\tat org.terrier.python.ParallelIndexer$4.call(ParallelIndexer.java:137)\n",
            "\tat java.base/java.util.concurrent.ForkJoinTask$AdaptedCallable.exec(ForkJoinTask.java:1448)\n",
            "\tat java.base/java.util.concurrent.ForkJoinTask.doExec(ForkJoinTask.java:290)\n",
            "\tat java.base/java.util.concurrent.ForkJoinPool$WorkQueue.topLevelExec(ForkJoinPool.java:1020)\n",
            "\tat java.base/java.util.concurrent.ForkJoinPool.scan(ForkJoinPool.java:1656)\n",
            "\tat java.base/java.util.concurrent.ForkJoinPool.runWorker(ForkJoinPool.java:1594)\n",
            "\tat java.base/java.util.concurrent.ForkJoinWorkerThread.run(ForkJoinWorkerThread.java:183)\n",
            "13:28:07.124 [ForkJoinPool-17-worker-3] WARN org.terrier.structures.indexing.Indexer -- Indexed 33 empty documents\n"
          ]
        }
      ]
    },
    {
      "cell_type": "code",
      "source": [
        "print(\"Index statistics:\")\n",
        "print(index.getCollectionStatistics().toString())"
      ],
      "metadata": {
        "colab": {
          "base_uri": "https://localhost:8080/"
        },
        "id": "cxcTX8dtc-MT",
        "outputId": "3f7ea143-8b39-4da2-8497-2bc18bbf94f8"
      },
      "execution_count": 145,
      "outputs": [
        {
          "output_type": "stream",
          "name": "stdout",
          "text": [
            "Index statistics:\n",
            "Number of documents: 50000\n",
            "Number of terms: 116248\n",
            "Number of postings: 2906988\n",
            "Number of fields: 0\n",
            "Number of tokens: 4608940\n",
            "Field names: []\n",
            "Positions:   false\n",
            "\n"
          ]
        }
      ]
    },
    {
      "cell_type": "markdown",
      "source": [
        "# Query Processing"
      ],
      "metadata": {
        "id": "rnTwqySqdGTf"
      }
    },
    {
      "cell_type": "code",
      "source": [
        "tf_idf_retriever = pt.TerrierRetrieve(index, wmodel=\"TF_IDF\")\n",
        "sample_query_text_phase2 = \"long-term effects of COVID-19 vaccination\"\n",
        "print(f\"Sample query for TF-IDF: '{sample_query_text_phase2}'\")\n",
        "print(f\"Query after applying our Python preprocessing: '{preprocess_document_text(sample_query_text_phase2)}'\")"
      ],
      "metadata": {
        "colab": {
          "base_uri": "https://localhost:8080/"
        },
        "id": "pSNn4svbdIAE",
        "outputId": "28d7a638-a61c-474a-c6e5-51ffd716b363"
      },
      "execution_count": 146,
      "outputs": [
        {
          "output_type": "stream",
          "name": "stdout",
          "text": [
            "Sample query for TF-IDF: 'long-term effects of COVID-19 vaccination'\n",
            "Query after applying our Python preprocessing: 'longterm effect covid vaccin'\n"
          ]
        }
      ]
    },
    {
      "cell_type": "code",
      "source": [
        "start_time = time.time()\n",
        "retrieved_docs_tfidf = tf_idf_retriever.search(sample_query_text_phase2)\n",
        "end_time = time.time()\n",
        "print(f\"TF-IDF retrieval took {end_time - start_time:.4f} seconds.\")"
      ],
      "metadata": {
        "colab": {
          "base_uri": "https://localhost:8080/"
        },
        "id": "Iat4YOGQdMFp",
        "outputId": "a15dfc1e-e5c0-41b7-dcbc-51636c808eb5"
      },
      "execution_count": 147,
      "outputs": [
        {
          "output_type": "stream",
          "name": "stdout",
          "text": [
            "TF-IDF retrieval took 0.2202 seconds.\n"
          ]
        }
      ]
    },
    {
      "cell_type": "code",
      "source": [
        "print(f\"Top 3 documents retrieved by TF-IDF for '{sample_query_text_phase2}':\")\n",
        "if not retrieved_docs_tfidf.empty:\n",
        "    for i, row in retrieved_docs_tfidf.head(3).iterrows():\n",
        "        docno_val = row['docno']\n",
        "        score_val = row['score']\n",
        "        original_text_series = documents_df_orig[documents_df_orig['docno'] == docno_val]['text']\n",
        "        original_text = original_text_series.iloc[0][:100] + \"...\" if not original_text_series.empty else \"Original text not found.\"\n",
        "        print(f\"  Rank {i+1}: DocID {docno_val}, Score {score_val:.4f}, Text: {original_text}\")\n",
        "else:\n",
        "    print(\"  No documents retrieved by TF-IDF for sample query.\")"
      ],
      "metadata": {
        "colab": {
          "base_uri": "https://localhost:8080/"
        },
        "id": "S81mW4WAdO13",
        "outputId": "838209df-1d04-47d2-91d2-a0880f59d6e0"
      },
      "execution_count": 148,
      "outputs": [
        {
          "output_type": "stream",
          "name": "stdout",
          "text": [
            "Top 3 documents retrieved by TF-IDF for 'long-term effects of COVID-19 vaccination':\n",
            "  Rank 1: DocID qgoxlqoq, Score 11.0607, Text: Threat of COVID-19 Vaccine Hesitancy in Pakistan: The Need for Measures to Neutralize Misleading Nar...\n",
            "  Rank 2: DocID 3cke9x69, Score 10.7065, Text: Social distancing: A non-pharmacological intervention for COVID-19. Social distancing is one of the ...\n",
            "  Rank 3: DocID hfo5221v, Score 10.4779, Text: Profiles of COVID-19 clinical trials in the Chinese Clinical Trial Registry. The COVID-19 pandemic c...\n"
          ]
        }
      ]
    },
    {
      "cell_type": "markdown",
      "source": [
        "# Query Expansion"
      ],
      "metadata": {
        "id": "qq7-dhA4dTwr"
      }
    },
    {
      "cell_type": "code",
      "source": [
        "bm25_retriever = pt.TerrierRetrieve(index, wmodel=\"BM25\")\n",
        "\n",
        "rm3_expander_pt = pt.rewrite.RM3(index, fb_terms=10, fb_docs=3)\n",
        "bm25_rm3_pipeline = bm25_retriever >> rm3_expander_pt >> bm25_retriever"
      ],
      "metadata": {
        "id": "4Pr-3tPYdS4A"
      },
      "execution_count": 149,
      "outputs": []
    },
    {
      "cell_type": "code",
      "source": [
        "print(f\"Testing RM3 pipeline with query: '{sample_query_text_phase2}'\")\n",
        "start_time = time.time()\n",
        "retrieved_docs_rm3 = bm25_rm3_pipeline.search(sample_query_text_phase2)\n",
        "end_time = time.time()\n",
        "print(f\"RM3 retrieval took {end_time - start_time:.4f} seconds.\")"
      ],
      "metadata": {
        "colab": {
          "base_uri": "https://localhost:8080/"
        },
        "id": "-SphsBSVdbzP",
        "outputId": "803a6e9f-b303-4831-9b70-01a59a32b6db"
      },
      "execution_count": 150,
      "outputs": [
        {
          "output_type": "stream",
          "name": "stdout",
          "text": [
            "Testing RM3 pipeline with query: 'long-term effects of COVID-19 vaccination'\n",
            "RM3 retrieval took 0.3496 seconds.\n"
          ]
        }
      ]
    },
    {
      "cell_type": "code",
      "source": [
        "print(f\"Top 3 documents retrieved by BM25+RM3 for '{sample_query_text_phase2}':\")\n",
        "if not retrieved_docs_rm3.empty:\n",
        "    for i, row in retrieved_docs_rm3.head(3).iterrows():\n",
        "        docno_val, score_val = row['docno'], row['score']\n",
        "        original_text_series = documents_df_orig[documents_df_orig['docno'] == docno_val]['text']\n",
        "        original_text = original_text_series.iloc[0][:100] + \"...\" if not original_text_series.empty else \"Original text not found.\"\n",
        "        print(f\"  Rank {i+1}: DocID {docno_val}, Score {score_val:.4f}, Text: {original_text}\")\n",
        "else:\n",
        "    print(\"  No documents retrieved by BM25+RM3 for sample query.\")"
      ],
      "metadata": {
        "colab": {
          "base_uri": "https://localhost:8080/"
        },
        "id": "QpthBiIFddyO",
        "outputId": "deac73b5-3925-4857-d0ea-e12931d9f746"
      },
      "execution_count": 151,
      "outputs": [
        {
          "output_type": "stream",
          "name": "stdout",
          "text": [
            "Top 3 documents retrieved by BM25+RM3 for 'long-term effects of COVID-19 vaccination':\n",
            "  Rank 1: DocID qgoxlqoq, Score 34.2036, Text: Threat of COVID-19 Vaccine Hesitancy in Pakistan: The Need for Measures to Neutralize Misleading Nar...\n",
            "  Rank 2: DocID 3cke9x69, Score 17.9451, Text: Social distancing: A non-pharmacological intervention for COVID-19. Social distancing is one of the ...\n",
            "  Rank 3: DocID lsyiwylf, Score 16.2901, Text: Why were Turks unwilling to accept the A/H1N1 influenza-pandemic vaccination? People's beliefs and p...\n"
          ]
        }
      ]
    },
    {
      "cell_type": "markdown",
      "source": [
        "# Embedding-based Query Expansion (BERT)"
      ],
      "metadata": {
        "id": "3BrqgtzDdgLW"
      }
    },
    {
      "cell_type": "code",
      "source": [
        "_nqe_model_instance = None\n",
        "def _get_nqe_model(model_name=NQE_MODEL_NAME, device_to_use=None):\n",
        "    global _nqe_model_instance\n",
        "    if device_to_use is None: device_to_use = \"cuda\" if torch.cuda.is_available() else \"cpu\"\n",
        "    if _nqe_model_instance is None:\n",
        "        print(f\"Loading Neural Query Expander model: {model_name} to {device_to_use}...\")\n",
        "        _nqe_model_instance = SentenceTransformer(model_name, device=device_to_use)\n",
        "    return _nqe_model_instance\n",
        "\n",
        "def expand_query_with_embeddings(original_query, top_docs_text_list, model, expansion_terms=NQE_EXP_TERMS_COUNT, max_candidate_terms=NQE_MAX_CANDIDATE_TERMS):\n",
        "    if not top_docs_text_list: return original_query\n",
        "    query_embedding = model.encode([original_query], convert_to_tensor=True, show_progress_bar=False)[0]\n",
        "    doc_text_combined = ' '.join(doc_text for doc_text in top_docs_text_list if isinstance(doc_text, str) and doc_text.strip())\n",
        "    if not doc_text_combined: return original_query\n",
        "    tokens = [t for t in word_tokenize(doc_text_combined.lower()) if t.isalpha() and t not in nltk_stop_words]\n",
        "    original_query_tokens = set(word_tokenize(original_query.lower()))\n",
        "    candidate_tokens = list(set(t for t in tokens if t not in original_query_tokens))\n",
        "    if not candidate_tokens: return original_query\n",
        "    if len(candidate_tokens) > max_candidate_terms: candidate_tokens = candidate_tokens[:max_candidate_terms]\n",
        "    if not candidate_tokens: return original_query\n",
        "    term_embeddings = model.encode(candidate_tokens, convert_to_tensor=True, show_progress_bar=False)\n",
        "    if term_embeddings.nelement() == 0: return original_query\n",
        "    similarities = cosine_similarity(query_embedding.unsqueeze(0).cpu().numpy(), term_embeddings.cpu().numpy())[0]\n",
        "    num_actual_terms = min(expansion_terms, len(candidate_tokens))\n",
        "    if num_actual_terms == 0: return original_query\n",
        "    top_indices = np.argsort(similarities)[-num_actual_terms:]\n",
        "    expanded_terms_list = [candidate_tokens[i] for i in top_indices if i < len(candidate_tokens)]\n",
        "    return original_query + ' ' + ' '.join(expanded_terms_list)"
      ],
      "metadata": {
        "id": "8SN_FurDdg3S"
      },
      "execution_count": 152,
      "outputs": []
    },
    {
      "cell_type": "code",
      "source": [
        "class EmbeddingQueryExpansionTransformer(pt.Transformer):\n",
        "    def __init__(self, first_pass_retriever, docs_df_for_text, nqe_model_name=NQE_MODEL_NAME, num_exp_docs=NQE_NUM_EXP_DOCS, exp_terms=NQE_EXP_TERMS_COUNT, max_cand_terms=NQE_MAX_CANDIDATE_TERMS):\n",
        "        self.first_pass_retriever = first_pass_retriever\n",
        "        self.docs_df = docs_df_for_text\n",
        "        self.nqe_model = _get_nqe_model(nqe_model_name)\n",
        "        self.num_exp_docs, self.exp_terms, self.max_cand_terms = num_exp_docs, exp_terms, max_cand_terms\n",
        "        self.last_expanded_query = None\n",
        "\n",
        "    def transform(self, topics_df):\n",
        "        first_pass_results = self.first_pass_retriever.transform(topics_df.copy())\n",
        "        expanded_queries_data = []\n",
        "        for qid, group in topics_df.groupby('qid'):\n",
        "            original_query = group['query'].iloc[0]\n",
        "            top_docnos_for_qid = first_pass_results[first_pass_results['qid'] == qid].head(self.num_exp_docs)['docno'].tolist()\n",
        "            expanded_query_text = original_query\n",
        "            if top_docnos_for_qid:\n",
        "                retrieved_docs_texts_series = self.docs_df[self.docs_df['docno'].isin(top_docnos_for_qid)]\n",
        "                top_docs_texts_map = pd.Series(retrieved_docs_texts_series.text.values, index=retrieved_docs_texts_series.docno).to_dict()\n",
        "                top_docs_texts = [top_docs_texts_map.get(dn) for dn in top_docnos_for_qid if dn in top_docs_texts_map]\n",
        "                if top_docs_texts:\n",
        "                    expanded_query_text = expand_query_with_embeddings(original_query, top_docs_texts, self.nqe_model, self.exp_terms, self.max_cand_terms)\n",
        "            self.last_expanded_query = expanded_query_text\n",
        "            new_row = group.iloc[[0]].copy(); new_row['query'] = expanded_query_text\n",
        "            expanded_queries_data.append(new_row)\n",
        "        return pd.concat(expanded_queries_data, ignore_index=True) if expanded_queries_data else pd.DataFrame(columns=topics_df.columns)\n"
      ],
      "metadata": {
        "id": "xngXA5u1dopg"
      },
      "execution_count": 153,
      "outputs": []
    },
    {
      "cell_type": "code",
      "source": [
        "first_pass_for_nqe = bm25_retriever % (NQE_NUM_EXP_DOCS * 2)\n"
      ],
      "metadata": {
        "id": "DRxAN4nVdtHf"
      },
      "execution_count": 154,
      "outputs": []
    },
    {
      "cell_type": "code",
      "source": [
        "embedding_expansion_transformer = EmbeddingQueryExpansionTransformer(first_pass_for_nqe, documents_df_orig)\n",
        "bm25_embedding_exp_pipeline = embedding_expansion_transformer >> bm25_retriever"
      ],
      "metadata": {
        "colab": {
          "base_uri": "https://localhost:8080/"
        },
        "id": "aOfmWdeEduQx",
        "outputId": "1a673efc-f0c8-4afb-e336-de5d61f6b8f7"
      },
      "execution_count": 155,
      "outputs": [
        {
          "output_type": "stream",
          "name": "stdout",
          "text": [
            "Loading Neural Query Expander model: sentence-transformers/all-MiniLM-L6-v2 to cpu...\n"
          ]
        }
      ]
    },
    {
      "cell_type": "code",
      "source": [
        "print(f\"Testing Embedding-based (BERT) Expansion pipeline with query: '{sample_query_text_phase2}'\")\n",
        "start_time = time.time()\n",
        "retrieved_docs_bert_exp = bm25_embedding_exp_pipeline.search(sample_query_text_phase2)\n",
        "end_time = time.time()\n",
        "print(f\"Embedding-based expansion retrieval took {end_time - start_time:.4f} seconds.\")"
      ],
      "metadata": {
        "colab": {
          "base_uri": "https://localhost:8080/"
        },
        "id": "0B_zGBiFdvoA",
        "outputId": "df33934c-a9fa-424b-81d4-64337d148ef0"
      },
      "execution_count": 156,
      "outputs": [
        {
          "output_type": "stream",
          "name": "stdout",
          "text": [
            "Testing Embedding-based (BERT) Expansion pipeline with query: 'long-term effects of COVID-19 vaccination'\n",
            "Embedding-based expansion retrieval took 0.5513 seconds.\n"
          ]
        }
      ]
    },
    {
      "cell_type": "code",
      "source": [
        "if not retrieved_docs_bert_exp.empty:\n",
        "    print(f\"  (Expanded query was likely: '{embedding_expansion_transformer.last_expanded_query}')\")\n",
        "    for i, row in retrieved_docs_bert_exp.head(3).iterrows():\n",
        "        docno_val, score_val = row['docno'], row['score']\n",
        "        original_text_series = documents_df_orig[documents_df_orig['docno'] == docno_val]['text']\n",
        "        original_text = original_text_series.iloc[0][:100] + \"...\" if not original_text_series.empty else \"Original text not found.\"\n",
        "        print(f\"  Rank {i+1}: DocID {docno_val}, Score {score_val:.4f}, Text: {original_text}\")\n",
        "else:\n",
        "    print(\"  No documents retrieved by BM25+Emb_Exp for sample query.\")"
      ],
      "metadata": {
        "colab": {
          "base_uri": "https://localhost:8080/"
        },
        "id": "SGRZiqw1dxUX",
        "outputId": "969c30bb-efec-4256-ab7f-b2c93ac0c201"
      },
      "execution_count": 157,
      "outputs": [
        {
          "output_type": "stream",
          "name": "stdout",
          "text": [
            "  (Expanded query was likely: 'long-term effects of COVID-19 vaccination severe disease immunisation')\n",
            "  Rank 1: DocID xkzvzonj, Score 19.8090, Text: [Coronavirus, emerging viruses]. Coronavirus is a large family of viruses that infect mammals and bi...\n",
            "  Rank 2: DocID hfo5221v, Score 19.6737, Text: Profiles of COVID-19 clinical trials in the Chinese Clinical Trial Registry. The COVID-19 pandemic c...\n",
            "  Rank 3: DocID qv2wup1o, Score 19.0258, Text: Hydroxychloroquine and covid-19. Hydroxychloroquine and chloroquine are medications that have been u...\n"
          ]
        }
      ]
    },
    {
      "cell_type": "markdown",
      "source": [
        "# Extra Work"
      ],
      "metadata": {
        "id": "KIe5jhB-dzbo"
      }
    },
    {
      "cell_type": "markdown",
      "source": [
        "## Mono-Bert"
      ],
      "metadata": {
        "id": "CJCkgi-xeFat"
      }
    },
    {
      "cell_type": "code",
      "source": [
        "_monobert_model_tokenizer = None\n",
        "def _get_monobert_model_tokenizer(model_name=BERT_MODEL_NAME, device_to_use=None):\n",
        "    global _monobert_model_tokenizer\n",
        "    if device_to_use is None:\n",
        "        device_to_use = \"cuda\" if torch.cuda.is_available() else \"cpu\"\n",
        "    if _monobert_model_tokenizer is None:\n",
        "        print(f\"Loading MonoBERT model/tokenizer: {model_name} to {device_to_use}...\")\n",
        "        tokenizer = AutoTokenizer.from_pretrained(model_name)\n",
        "        model = AutoModel.from_pretrained(model_name).to(device_to_use).eval()\n",
        "        linear_layer = nn.Linear(model.config.hidden_size, 1).to(device_to_use).eval()\n",
        "        _monobert_model_tokenizer = (model, tokenizer, linear_layer)\n",
        "    return _monobert_model_tokenizer"
      ],
      "metadata": {
        "id": "NhqtXLNjd1TM"
      },
      "execution_count": 158,
      "outputs": []
    },
    {
      "cell_type": "code",
      "source": [
        "class MonoBERTReranker(pt.Transformer):\n",
        "    def __init__(self, docs_df_for_text, model_name=BERT_MODEL_NAME, batch_size=MONOBERT_BATCH_SIZE, max_length=MONOBERT_MAX_LENGTH):\n",
        "        self.docs_df = docs_df_for_text # documents_df_orig\n",
        "        self.device = \"cuda\" if torch.cuda.is_available() else \"cpu\"\n",
        "        self.model, self.tokenizer, self.linear = _get_bert_reranker_model_tokenizer(model_name, self.device, \"mono\")\n",
        "        self.batch_size, self.max_length = batch_size, max_length\n",
        "\n",
        "    def transform(self, input_df):\n",
        "        results_list = []\n",
        "        for qid, group in input_df.groupby('qid'):\n",
        "            query_text = group['query'].iloc[0]\n",
        "            docnos_str = group['docno'].astype(str).tolist()\n",
        "            current_docs_data = self.docs_df[self.docs_df['docno'].isin(docnos_str)]\n",
        "            doc_texts_map = pd.Series(current_docs_data.text.values, index=current_docs_data.docno.astype(str)).to_dict()\n",
        "            current_docs_text = [doc_texts_map.get(dn, \"\") for dn in docnos_str]\n",
        "\n",
        "            scores_for_group = np.zeros(len(docnos_str))\n",
        "            with torch.no_grad():\n",
        "                for i in range(0, len(docnos_str), self.batch_size):\n",
        "                    batch_d_texts = current_docs_text[i : i + self.batch_size]\n",
        "                    batch_q_texts = [query_text] * len(batch_d_texts)\n",
        "                    if not batch_d_texts: continue\n",
        "                    inputs = self.tokenizer(batch_q_texts, batch_d_texts, return_tensors='pt', truncation='longest_first', max_length=self.max_length, padding='max_length').to(self.device)\n",
        "                    cls_embedding = self.model(**inputs).last_hidden_state[:,0,:]\n",
        "                    batch_scores = self.linear(cls_embedding).squeeze(-1).cpu().numpy()\n",
        "                    scores_for_group[i : i + len(batch_scores)] = batch_scores\n",
        "            group_copy = group.copy(); group_copy['score'] = scores_for_group\n",
        "            results_list.append(group_copy)\n",
        "        return pd.concat(results_list).sort_values(['qid', 'score'], ascending=[True, False]) if results_list else pd.DataFrame(columns=input_df.columns)"
      ],
      "metadata": {
        "id": "JOfTdJeBd44o"
      },
      "execution_count": 159,
      "outputs": []
    },
    {
      "cell_type": "markdown",
      "source": [
        "## Duo-Bert"
      ],
      "metadata": {
        "id": "sK5ZNqODeJtn"
      }
    },
    {
      "cell_type": "code",
      "source": [
        "_duobert_model_tokenizer = None\n",
        "def _get_duobert_model_tokenizer(model_name=BERT_MODEL_NAME, device_to_use=None):\n",
        "    global _duobert_model_tokenizer\n",
        "    if device_to_use is None:\n",
        "        device_to_use = \"cuda\" if torch.cuda.is_available() else \"cpu\"\n",
        "\n",
        "    if _duobert_model_tokenizer is None:\n",
        "        print(f\"Loading DuoBERT model/tokenizer (reusing MonoBERT base): {model_name} to {device_to_use}...\")\n",
        "        tokenizer = AutoTokenizer.from_pretrained(model_name)\n",
        "        model = AutoModel.from_pretrained(model_name).to(device_to_use).eval()\n",
        "        linear_layer = nn.Linear(model.config.hidden_size, 1).to(device_to_use).eval()\n",
        "        _duobert_model_tokenizer = (model, tokenizer, linear_layer)\n",
        "    return _duobert_model_tokenizer\n"
      ],
      "metadata": {
        "id": "FmjjONdld_Ji"
      },
      "execution_count": 160,
      "outputs": []
    },
    {
      "cell_type": "code",
      "source": [
        "class DuoBERTReranker(pt.Transformer):\n",
        "    def __init__(self, docs_df_for_text, model_name=BERT_MODEL_NAME, batch_size=DUOBERT_BATCH_SIZE, max_length=DUOBERT_MAX_LENGTH):\n",
        "        self.docs_df = docs_df_for_text # documents_df_orig\n",
        "        self.device = \"cuda\" if torch.cuda.is_available() else \"cpu\"\n",
        "        self.model, self.tokenizer, self.linear = _get_bert_reranker_model_tokenizer(model_name, self.device, \"duo\")\n",
        "        self.batch_size, self.max_length = batch_size, max_length\n",
        "\n",
        "    def transform(self, input_df):\n",
        "        results_list = []\n",
        "        for qid_val, group in input_df.groupby('qid'):\n",
        "            query_text = group['query'].iloc[0]\n",
        "            docnos_in_group = group['docno'].astype(str).tolist()\n",
        "            current_docs_data = self.docs_df[self.docs_df['docno'].isin(docnos_in_group)]\n",
        "            doc_texts_map = pd.Series(current_docs_data.text.values, index=current_docs_data.docno.astype(str)).to_dict()\n",
        "            docs_content = [doc_texts_map.get(d, \"\") for d in docnos_in_group]\n",
        "\n",
        "            if len(docs_content) < 2:\n",
        "                group_copy = group.copy(); group_copy['score'] = 0.0\n",
        "                results_list.append(group_copy); continue\n",
        "\n",
        "            doc_preferences = {dn: 0 for dn in docnos_in_group}\n",
        "            concatenated_input_texts_paired = []\n",
        "            for i in range(len(docs_content)):\n",
        "                for j in range(i + 1, len(docs_content)):\n",
        "                    concatenated_input_texts_paired.append(f\"{query_text} [SEP] {docs_content[i]} [SEP] {docs_content[j]}\")\n",
        "                    concatenated_input_texts_paired.append(f\"{query_text} [SEP] {docs_content[j]} [SEP] {docs_content[i]}\")\n",
        "\n",
        "            if not concatenated_input_texts_paired:\n",
        "                results_list.append(group); continue\n",
        "\n",
        "            all_logit_scores_paired = []\n",
        "            with torch.no_grad():\n",
        "                for k_idx in range(0, len(concatenated_input_texts_paired), self.batch_size):\n",
        "                    batch = concatenated_input_texts_paired[k_idx : k_idx + self.batch_size]\n",
        "                    if not batch: continue\n",
        "                    inputs = self.tokenizer(batch, return_tensors='pt', truncation='longest_first', max_length=self.max_length, padding='max_length').to(self.device)\n",
        "                    logits = self.linear(self.model(**inputs).last_hidden_state[:, 0, :]).squeeze(-1).cpu().numpy()\n",
        "                    all_logit_scores_paired.extend(logits)\n",
        "\n",
        "            score_ptr = 0\n",
        "            for i in range(len(docs_content)):\n",
        "                for j in range(i + 1, len(docs_content)):\n",
        "                    if score_ptr + 1 < len(all_logit_scores_paired):\n",
        "                        score_Di_over_Dj, score_Dj_over_Di = all_logit_scores_paired[score_ptr], all_logit_scores_paired[score_ptr + 1]\n",
        "                        score_ptr += 2\n",
        "                        if score_Di_over_Dj > score_Dj_over_Di: doc_preferences[docnos_in_group[i]] += 1\n",
        "                        elif score_Dj_over_Di > score_Di_over_Dj: doc_preferences[docnos_in_group[j]] += 1\n",
        "                    else: break\n",
        "                if score_ptr >= len(all_logit_scores_paired): break\n",
        "            group_copy = group.copy(); group_copy['score'] = [float(doc_preferences[dn]) for dn in docnos_in_group]\n",
        "            results_list.append(group_copy)\n",
        "        return pd.concat(results_list).sort_values(['qid', 'score'], ascending=[True, False]) if results_list else pd.DataFrame(columns=input_df.columns)"
      ],
      "metadata": {
        "id": "JDPvMesCeOvY"
      },
      "execution_count": 80,
      "outputs": []
    },
    {
      "cell_type": "code",
      "source": [
        "mono_bert_reranker_pt = MonoBERTReranker(documents_df_orig)\n",
        "duo_bert_reranker_pt = DuoBERTReranker(documents_df_orig)"
      ],
      "metadata": {
        "colab": {
          "base_uri": "https://localhost:8080/"
        },
        "id": "WtmWBg0Kej6H",
        "outputId": "fe94d811-fe7e-405a-cdda-997496608469"
      },
      "execution_count": 161,
      "outputs": [
        {
          "output_type": "stream",
          "name": "stdout",
          "text": [
            "Loading monoBERT model/tokenizer: bert-base-uncased to cpu...\n",
            "Loading duoBERT model/tokenizer: bert-base-uncased to cpu...\n"
          ]
        }
      ]
    },
    {
      "cell_type": "markdown",
      "source": [
        "## Get K Candidates from BM25 for re-ranking"
      ],
      "metadata": {
        "id": "yweJG6SfemQi"
      }
    },
    {
      "cell_type": "code",
      "source": [
        "candidates_for_monobert = bm25_retriever % CANDIDATES_FOR_RERANK_MONOBERT_EVAL\n",
        "bm25_monobert_pipeline = candidates_for_monobert >> mono_bert_reranker_pt\n",
        "\n",
        "candidates_for_duobert = bm25_retriever % CANDIDATES_FOR_RERANK_DUOBERT_EVAL\n",
        "bm25_duobert_pipeline = candidates_for_duobert >> duo_bert_reranker_pt"
      ],
      "metadata": {
        "id": "JxqCzoJaenJm"
      },
      "execution_count": 162,
      "outputs": []
    },
    {
      "cell_type": "markdown",
      "source": [
        "# Evaluation"
      ],
      "metadata": {
        "id": "nMTML-BYeo08"
      }
    },
    {
      "cell_type": "code",
      "source": [
        "\"\"\"# Evaluation\"\"\"\n",
        "\n",
        "\n",
        "eval_queries_df_pt = _eval_queries_for_doc_inclusion.copy()\n",
        "\n",
        "\n",
        "if not _eval_qrels_for_doc_inclusion.empty and not documents_df_subset.empty:\n",
        "    eval_qrels_df_pt = _eval_qrels_for_doc_inclusion[\n",
        "        _eval_qrels_for_doc_inclusion['qid'].isin(eval_queries_df_pt['qid']) &\n",
        "        _eval_qrels_for_doc_inclusion['docno'].isin(documents_df_subset['docno'])\n",
        "    ].copy()\n",
        "else:\n",
        "    eval_qrels_df_pt = pd.DataFrame(columns=['qid', 'docno', 'label'])\n",
        "\n",
        "if not eval_queries_df_pt.empty:\n",
        "    eval_queries_df_pt['qid'] = eval_queries_df_pt['qid'].astype(str)\n",
        "\n",
        "    if 'query' not in eval_queries_df_pt.columns:\n",
        "\n",
        "        potential_query_cols = ['query', 'text', 'title', 'description']\n",
        "        actual_query_col_found = None\n",
        "        for col_name in potential_query_cols:\n",
        "            if col_name in eval_queries_df_pt.columns:\n",
        "                actual_query_col_found = col_name\n",
        "                break\n",
        "\n",
        "        if actual_query_col_found and actual_query_col_found != 'query':\n",
        "            print(f\"Warning: Standard 'query' column not found in eval_queries_df_pt. Renaming '{actual_query_col_found}' to 'query'.\")\n",
        "            eval_queries_df_pt.rename(columns={actual_query_col_found: 'query'}, inplace=True)\n",
        "        elif 'query' not in eval_queries_df_pt.columns:\n",
        "             print(f\"CRITICAL ERROR: Could not find or rename a suitable query text column to 'query' in eval_queries_df_pt. Columns are: {eval_queries_df_pt.columns}. Evaluation will likely fail.\")\n",
        "\n",
        "\n",
        "    if 'query' in eval_queries_df_pt.columns:\n",
        "        eval_queries_df_pt['query'] = eval_queries_df_pt['query'].astype(str)\n",
        "    else:\n",
        "        pass\n",
        "\n",
        "    eval_queries_df_pt = eval_queries_df_pt.reset_index(drop=True)\n",
        "\n",
        "if not eval_qrels_df_pt.empty:\n",
        "    eval_qrels_df_pt['qid'] = eval_qrels_df_pt['qid'].astype(str)\n",
        "    eval_qrels_df_pt['docno'] = eval_qrels_df_pt['docno'].astype(str)\n",
        "    eval_qrels_df_pt['label'] = eval_qrels_df_pt['label'].astype(int)\n",
        "    eval_qrels_df_pt = eval_qrels_df_pt.reset_index(drop=True)\n",
        "\n",
        "\n",
        "evaluation_results = pd.DataFrame()\n",
        "\n",
        "if eval_queries_df_pt.empty:\n",
        "    print(\"Evaluation skipped: No queries were selected or available for evaluation after data loading and filtering.\")\n",
        "elif 'query' not in eval_queries_df_pt.columns:\n",
        "    print(f\"Evaluation skipped: The evaluation queries DataFrame (eval_queries_df_pt) is missing the required 'query' column. Columns found: {eval_queries_df_pt.columns}\")\n",
        "elif eval_qrels_df_pt.empty:\n",
        "    print(f\"Evaluation skipped: {len(eval_queries_df_pt)} queries were selected for evaluation, \"\n",
        "          \"but no corresponding qrels (pointing to documents that were successfully indexed) were found. \"\n",
        "          \"Metrics cannot be computed.\")\n",
        "else:\n",
        "    print(f\"Evaluating with {len(eval_queries_df_pt)} queries (columns: {eval_queries_df_pt.columns}) and {len(eval_qrels_df_pt)} qrels entries.\")\n",
        "\n",
        "    systems_for_evaluation = [\n",
        "        bm25_retriever,\n",
        "        tf_idf_retriever,\n",
        "        bm25_rm3_pipeline,\n",
        "        bm25_embedding_exp_pipeline,\n",
        "        bm25_monobert_pipeline,\n",
        "        bm25_duobert_pipeline\n",
        "    ]\n",
        "    system_names_for_evaluation = [\n",
        "        \"BM25\",\n",
        "        \"TF-IDF\",\n",
        "        \"BM25+RM3\",\n",
        "        \"BM25+Emb_Exp\",\n",
        "        f\"BM25>>MonoBERT(Top{CANDIDATES_FOR_RERANK_MONOBERT_EVAL})\",\n",
        "        f\"BM25>>DuoBERT(Top{CANDIDATES_FOR_RERANK_DUOBERT_EVAL})\"\n",
        "    ]\n",
        "\n",
        "    try:\n",
        "        evaluation_results = pt.Experiment(\n",
        "            systems_for_evaluation,\n",
        "            eval_queries_df_pt[['qid', 'query']],\n",
        "            eval_qrels_df_pt,\n",
        "            eval_metrics=[\"map\", \"ndcg\", \"P_10\", \"recall_1000\"],\n",
        "            names=system_names_for_evaluation,\n",
        "            baseline=0\n",
        "        )\n",
        "        print(\"Evaluation Results:\")\n",
        "        from IPython.display import display\n",
        "        display(evaluation_results)\n",
        "    except AttributeError as ae:\n",
        "        print(f\"AttributeError during PyTerrier Experiment: {ae}\")\n",
        "        print(\"This often happens if the topics DataFrame is missing 'qid' or 'query' columns, or has unexpected structure.\")\n",
        "        print(f\"Columns in eval_queries_df_pt: {eval_queries_df_pt.columns}\")\n",
        "        print(f\"Sample of eval_queries_df_pt:\\n{eval_queries_df_pt.head()}\")\n",
        "        import traceback\n",
        "        traceback.print_exc()\n",
        "        evaluation_results = pd.DataFrame()\n",
        "    except Exception as e:\n",
        "        print(f\"Error during PyTerrier Experiment: {e}\")\n",
        "        import traceback\n",
        "        traceback.print_exc()\n",
        "        evaluation_results = pd.DataFrame()"
      ],
      "metadata": {
        "colab": {
          "base_uri": "https://localhost:8080/",
          "height": 290
        },
        "id": "EN671USkeqvH",
        "outputId": "65fc772d-3a08-42bc-9f41-4ae0c82a966a"
      },
      "execution_count": 179,
      "outputs": [
        {
          "output_type": "stream",
          "name": "stdout",
          "text": [
            "Warning: Standard 'query' column not found in eval_queries_df_pt. Renaming 'title' to 'query'.\n",
            "Evaluating with 10 queries (columns: Index(['qid', 'query', 'description', 'narrative'], dtype='object')) and 1686 qrels entries.\n",
            "Evaluation Results:\n"
          ]
        },
        {
          "output_type": "display_data",
          "data": {
            "text/plain": [
              "                    name       map  P_10  recall_1000      ndcg  map +  map -  \\\n",
              "0                   BM25  0.136554  0.30     0.550078  0.402410    NaN    NaN   \n",
              "1                 TF-IDF  0.136793  0.30     0.550078  0.402356    5.0    5.0   \n",
              "2               BM25+RM3  0.151447  0.37     0.572042  0.409030    9.0    1.0   \n",
              "3           BM25+Emb_Exp  0.080050  0.19     0.539228  0.321466    1.0    9.0   \n",
              "4  BM25>>MonoBERT(Top10)  0.038625  0.30     0.097970  0.123100    0.0   10.0   \n",
              "5   BM25>>DuoBERT(Top10)  0.046588  0.30     0.097970  0.132772    1.0    9.0   \n",
              "\n",
              "   map p-value  P_10 +  P_10 -  P_10 p-value  recall_1000 +  recall_1000 -  \\\n",
              "0          NaN     NaN     NaN           NaN            NaN            NaN   \n",
              "1     0.769099     0.0     0.0           NaN            0.0            0.0   \n",
              "2     0.067631     4.0     1.0      0.110765            5.0            2.0   \n",
              "3     0.004668     0.0     6.0      0.011535            2.0            6.0   \n",
              "4     0.001858     0.0     0.0           NaN            0.0           10.0   \n",
              "5     0.004833     0.0     0.0           NaN            0.0           10.0   \n",
              "\n",
              "   recall_1000 p-value  ndcg +  ndcg -  ndcg p-value  \n",
              "0                  NaN     NaN     NaN           NaN  \n",
              "1                  NaN     5.0     5.0      0.902309  \n",
              "2             0.191045     6.0     4.0      0.524219  \n",
              "3             0.778077     1.0     9.0      0.013755  \n",
              "4             0.000218     0.0    10.0      0.000529  \n",
              "5             0.000218     0.0    10.0      0.000844  "
            ],
            "text/html": [
              "\n",
              "  <div id=\"df-c56e74c1-f1d1-40d2-9f0b-a0fc55605383\" class=\"colab-df-container\">\n",
              "    <div>\n",
              "<style scoped>\n",
              "    .dataframe tbody tr th:only-of-type {\n",
              "        vertical-align: middle;\n",
              "    }\n",
              "\n",
              "    .dataframe tbody tr th {\n",
              "        vertical-align: top;\n",
              "    }\n",
              "\n",
              "    .dataframe thead th {\n",
              "        text-align: right;\n",
              "    }\n",
              "</style>\n",
              "<table border=\"1\" class=\"dataframe\">\n",
              "  <thead>\n",
              "    <tr style=\"text-align: right;\">\n",
              "      <th></th>\n",
              "      <th>name</th>\n",
              "      <th>map</th>\n",
              "      <th>P_10</th>\n",
              "      <th>recall_1000</th>\n",
              "      <th>ndcg</th>\n",
              "      <th>map +</th>\n",
              "      <th>map -</th>\n",
              "      <th>map p-value</th>\n",
              "      <th>P_10 +</th>\n",
              "      <th>P_10 -</th>\n",
              "      <th>P_10 p-value</th>\n",
              "      <th>recall_1000 +</th>\n",
              "      <th>recall_1000 -</th>\n",
              "      <th>recall_1000 p-value</th>\n",
              "      <th>ndcg +</th>\n",
              "      <th>ndcg -</th>\n",
              "      <th>ndcg p-value</th>\n",
              "    </tr>\n",
              "  </thead>\n",
              "  <tbody>\n",
              "    <tr>\n",
              "      <th>0</th>\n",
              "      <td>BM25</td>\n",
              "      <td>0.136554</td>\n",
              "      <td>0.30</td>\n",
              "      <td>0.550078</td>\n",
              "      <td>0.402410</td>\n",
              "      <td>NaN</td>\n",
              "      <td>NaN</td>\n",
              "      <td>NaN</td>\n",
              "      <td>NaN</td>\n",
              "      <td>NaN</td>\n",
              "      <td>NaN</td>\n",
              "      <td>NaN</td>\n",
              "      <td>NaN</td>\n",
              "      <td>NaN</td>\n",
              "      <td>NaN</td>\n",
              "      <td>NaN</td>\n",
              "      <td>NaN</td>\n",
              "    </tr>\n",
              "    <tr>\n",
              "      <th>1</th>\n",
              "      <td>TF-IDF</td>\n",
              "      <td>0.136793</td>\n",
              "      <td>0.30</td>\n",
              "      <td>0.550078</td>\n",
              "      <td>0.402356</td>\n",
              "      <td>5.0</td>\n",
              "      <td>5.0</td>\n",
              "      <td>0.769099</td>\n",
              "      <td>0.0</td>\n",
              "      <td>0.0</td>\n",
              "      <td>NaN</td>\n",
              "      <td>0.0</td>\n",
              "      <td>0.0</td>\n",
              "      <td>NaN</td>\n",
              "      <td>5.0</td>\n",
              "      <td>5.0</td>\n",
              "      <td>0.902309</td>\n",
              "    </tr>\n",
              "    <tr>\n",
              "      <th>2</th>\n",
              "      <td>BM25+RM3</td>\n",
              "      <td>0.151447</td>\n",
              "      <td>0.37</td>\n",
              "      <td>0.572042</td>\n",
              "      <td>0.409030</td>\n",
              "      <td>9.0</td>\n",
              "      <td>1.0</td>\n",
              "      <td>0.067631</td>\n",
              "      <td>4.0</td>\n",
              "      <td>1.0</td>\n",
              "      <td>0.110765</td>\n",
              "      <td>5.0</td>\n",
              "      <td>2.0</td>\n",
              "      <td>0.191045</td>\n",
              "      <td>6.0</td>\n",
              "      <td>4.0</td>\n",
              "      <td>0.524219</td>\n",
              "    </tr>\n",
              "    <tr>\n",
              "      <th>3</th>\n",
              "      <td>BM25+Emb_Exp</td>\n",
              "      <td>0.080050</td>\n",
              "      <td>0.19</td>\n",
              "      <td>0.539228</td>\n",
              "      <td>0.321466</td>\n",
              "      <td>1.0</td>\n",
              "      <td>9.0</td>\n",
              "      <td>0.004668</td>\n",
              "      <td>0.0</td>\n",
              "      <td>6.0</td>\n",
              "      <td>0.011535</td>\n",
              "      <td>2.0</td>\n",
              "      <td>6.0</td>\n",
              "      <td>0.778077</td>\n",
              "      <td>1.0</td>\n",
              "      <td>9.0</td>\n",
              "      <td>0.013755</td>\n",
              "    </tr>\n",
              "    <tr>\n",
              "      <th>4</th>\n",
              "      <td>BM25&gt;&gt;MonoBERT(Top10)</td>\n",
              "      <td>0.038625</td>\n",
              "      <td>0.30</td>\n",
              "      <td>0.097970</td>\n",
              "      <td>0.123100</td>\n",
              "      <td>0.0</td>\n",
              "      <td>10.0</td>\n",
              "      <td>0.001858</td>\n",
              "      <td>0.0</td>\n",
              "      <td>0.0</td>\n",
              "      <td>NaN</td>\n",
              "      <td>0.0</td>\n",
              "      <td>10.0</td>\n",
              "      <td>0.000218</td>\n",
              "      <td>0.0</td>\n",
              "      <td>10.0</td>\n",
              "      <td>0.000529</td>\n",
              "    </tr>\n",
              "    <tr>\n",
              "      <th>5</th>\n",
              "      <td>BM25&gt;&gt;DuoBERT(Top10)</td>\n",
              "      <td>0.046588</td>\n",
              "      <td>0.30</td>\n",
              "      <td>0.097970</td>\n",
              "      <td>0.132772</td>\n",
              "      <td>1.0</td>\n",
              "      <td>9.0</td>\n",
              "      <td>0.004833</td>\n",
              "      <td>0.0</td>\n",
              "      <td>0.0</td>\n",
              "      <td>NaN</td>\n",
              "      <td>0.0</td>\n",
              "      <td>10.0</td>\n",
              "      <td>0.000218</td>\n",
              "      <td>0.0</td>\n",
              "      <td>10.0</td>\n",
              "      <td>0.000844</td>\n",
              "    </tr>\n",
              "  </tbody>\n",
              "</table>\n",
              "</div>\n",
              "    <div class=\"colab-df-buttons\">\n",
              "\n",
              "  <div class=\"colab-df-container\">\n",
              "    <button class=\"colab-df-convert\" onclick=\"convertToInteractive('df-c56e74c1-f1d1-40d2-9f0b-a0fc55605383')\"\n",
              "            title=\"Convert this dataframe to an interactive table.\"\n",
              "            style=\"display:none;\">\n",
              "\n",
              "  <svg xmlns=\"http://www.w3.org/2000/svg\" height=\"24px\" viewBox=\"0 -960 960 960\">\n",
              "    <path d=\"M120-120v-720h720v720H120Zm60-500h600v-160H180v160Zm220 220h160v-160H400v160Zm0 220h160v-160H400v160ZM180-400h160v-160H180v160Zm440 0h160v-160H620v160ZM180-180h160v-160H180v160Zm440 0h160v-160H620v160Z\"/>\n",
              "  </svg>\n",
              "    </button>\n",
              "\n",
              "  <style>\n",
              "    .colab-df-container {\n",
              "      display:flex;\n",
              "      gap: 12px;\n",
              "    }\n",
              "\n",
              "    .colab-df-convert {\n",
              "      background-color: #E8F0FE;\n",
              "      border: none;\n",
              "      border-radius: 50%;\n",
              "      cursor: pointer;\n",
              "      display: none;\n",
              "      fill: #1967D2;\n",
              "      height: 32px;\n",
              "      padding: 0 0 0 0;\n",
              "      width: 32px;\n",
              "    }\n",
              "\n",
              "    .colab-df-convert:hover {\n",
              "      background-color: #E2EBFA;\n",
              "      box-shadow: 0px 1px 2px rgba(60, 64, 67, 0.3), 0px 1px 3px 1px rgba(60, 64, 67, 0.15);\n",
              "      fill: #174EA6;\n",
              "    }\n",
              "\n",
              "    .colab-df-buttons div {\n",
              "      margin-bottom: 4px;\n",
              "    }\n",
              "\n",
              "    [theme=dark] .colab-df-convert {\n",
              "      background-color: #3B4455;\n",
              "      fill: #D2E3FC;\n",
              "    }\n",
              "\n",
              "    [theme=dark] .colab-df-convert:hover {\n",
              "      background-color: #434B5C;\n",
              "      box-shadow: 0px 1px 3px 1px rgba(0, 0, 0, 0.15);\n",
              "      filter: drop-shadow(0px 1px 2px rgba(0, 0, 0, 0.3));\n",
              "      fill: #FFFFFF;\n",
              "    }\n",
              "  </style>\n",
              "\n",
              "    <script>\n",
              "      const buttonEl =\n",
              "        document.querySelector('#df-c56e74c1-f1d1-40d2-9f0b-a0fc55605383 button.colab-df-convert');\n",
              "      buttonEl.style.display =\n",
              "        google.colab.kernel.accessAllowed ? 'block' : 'none';\n",
              "\n",
              "      async function convertToInteractive(key) {\n",
              "        const element = document.querySelector('#df-c56e74c1-f1d1-40d2-9f0b-a0fc55605383');\n",
              "        const dataTable =\n",
              "          await google.colab.kernel.invokeFunction('convertToInteractive',\n",
              "                                                    [key], {});\n",
              "        if (!dataTable) return;\n",
              "\n",
              "        const docLinkHtml = 'Like what you see? Visit the ' +\n",
              "          '<a target=\"_blank\" href=https://colab.research.google.com/notebooks/data_table.ipynb>data table notebook</a>'\n",
              "          + ' to learn more about interactive tables.';\n",
              "        element.innerHTML = '';\n",
              "        dataTable['output_type'] = 'display_data';\n",
              "        await google.colab.output.renderOutput(dataTable, element);\n",
              "        const docLink = document.createElement('div');\n",
              "        docLink.innerHTML = docLinkHtml;\n",
              "        element.appendChild(docLink);\n",
              "      }\n",
              "    </script>\n",
              "  </div>\n",
              "\n",
              "\n",
              "    <div id=\"df-1eac3944-aa35-4527-805d-c718702eebcd\">\n",
              "      <button class=\"colab-df-quickchart\" onclick=\"quickchart('df-1eac3944-aa35-4527-805d-c718702eebcd')\"\n",
              "                title=\"Suggest charts\"\n",
              "                style=\"display:none;\">\n",
              "\n",
              "<svg xmlns=\"http://www.w3.org/2000/svg\" height=\"24px\"viewBox=\"0 0 24 24\"\n",
              "     width=\"24px\">\n",
              "    <g>\n",
              "        <path d=\"M19 3H5c-1.1 0-2 .9-2 2v14c0 1.1.9 2 2 2h14c1.1 0 2-.9 2-2V5c0-1.1-.9-2-2-2zM9 17H7v-7h2v7zm4 0h-2V7h2v10zm4 0h-2v-4h2v4z\"/>\n",
              "    </g>\n",
              "</svg>\n",
              "      </button>\n",
              "\n",
              "<style>\n",
              "  .colab-df-quickchart {\n",
              "      --bg-color: #E8F0FE;\n",
              "      --fill-color: #1967D2;\n",
              "      --hover-bg-color: #E2EBFA;\n",
              "      --hover-fill-color: #174EA6;\n",
              "      --disabled-fill-color: #AAA;\n",
              "      --disabled-bg-color: #DDD;\n",
              "  }\n",
              "\n",
              "  [theme=dark] .colab-df-quickchart {\n",
              "      --bg-color: #3B4455;\n",
              "      --fill-color: #D2E3FC;\n",
              "      --hover-bg-color: #434B5C;\n",
              "      --hover-fill-color: #FFFFFF;\n",
              "      --disabled-bg-color: #3B4455;\n",
              "      --disabled-fill-color: #666;\n",
              "  }\n",
              "\n",
              "  .colab-df-quickchart {\n",
              "    background-color: var(--bg-color);\n",
              "    border: none;\n",
              "    border-radius: 50%;\n",
              "    cursor: pointer;\n",
              "    display: none;\n",
              "    fill: var(--fill-color);\n",
              "    height: 32px;\n",
              "    padding: 0;\n",
              "    width: 32px;\n",
              "  }\n",
              "\n",
              "  .colab-df-quickchart:hover {\n",
              "    background-color: var(--hover-bg-color);\n",
              "    box-shadow: 0 1px 2px rgba(60, 64, 67, 0.3), 0 1px 3px 1px rgba(60, 64, 67, 0.15);\n",
              "    fill: var(--button-hover-fill-color);\n",
              "  }\n",
              "\n",
              "  .colab-df-quickchart-complete:disabled,\n",
              "  .colab-df-quickchart-complete:disabled:hover {\n",
              "    background-color: var(--disabled-bg-color);\n",
              "    fill: var(--disabled-fill-color);\n",
              "    box-shadow: none;\n",
              "  }\n",
              "\n",
              "  .colab-df-spinner {\n",
              "    border: 2px solid var(--fill-color);\n",
              "    border-color: transparent;\n",
              "    border-bottom-color: var(--fill-color);\n",
              "    animation:\n",
              "      spin 1s steps(1) infinite;\n",
              "  }\n",
              "\n",
              "  @keyframes spin {\n",
              "    0% {\n",
              "      border-color: transparent;\n",
              "      border-bottom-color: var(--fill-color);\n",
              "      border-left-color: var(--fill-color);\n",
              "    }\n",
              "    20% {\n",
              "      border-color: transparent;\n",
              "      border-left-color: var(--fill-color);\n",
              "      border-top-color: var(--fill-color);\n",
              "    }\n",
              "    30% {\n",
              "      border-color: transparent;\n",
              "      border-left-color: var(--fill-color);\n",
              "      border-top-color: var(--fill-color);\n",
              "      border-right-color: var(--fill-color);\n",
              "    }\n",
              "    40% {\n",
              "      border-color: transparent;\n",
              "      border-right-color: var(--fill-color);\n",
              "      border-top-color: var(--fill-color);\n",
              "    }\n",
              "    60% {\n",
              "      border-color: transparent;\n",
              "      border-right-color: var(--fill-color);\n",
              "    }\n",
              "    80% {\n",
              "      border-color: transparent;\n",
              "      border-right-color: var(--fill-color);\n",
              "      border-bottom-color: var(--fill-color);\n",
              "    }\n",
              "    90% {\n",
              "      border-color: transparent;\n",
              "      border-bottom-color: var(--fill-color);\n",
              "    }\n",
              "  }\n",
              "</style>\n",
              "\n",
              "      <script>\n",
              "        async function quickchart(key) {\n",
              "          const quickchartButtonEl =\n",
              "            document.querySelector('#' + key + ' button');\n",
              "          quickchartButtonEl.disabled = true;  // To prevent multiple clicks.\n",
              "          quickchartButtonEl.classList.add('colab-df-spinner');\n",
              "          try {\n",
              "            const charts = await google.colab.kernel.invokeFunction(\n",
              "                'suggestCharts', [key], {});\n",
              "          } catch (error) {\n",
              "            console.error('Error during call to suggestCharts:', error);\n",
              "          }\n",
              "          quickchartButtonEl.classList.remove('colab-df-spinner');\n",
              "          quickchartButtonEl.classList.add('colab-df-quickchart-complete');\n",
              "        }\n",
              "        (() => {\n",
              "          let quickchartButtonEl =\n",
              "            document.querySelector('#df-1eac3944-aa35-4527-805d-c718702eebcd button');\n",
              "          quickchartButtonEl.style.display =\n",
              "            google.colab.kernel.accessAllowed ? 'block' : 'none';\n",
              "        })();\n",
              "      </script>\n",
              "    </div>\n",
              "\n",
              "  <div id=\"id_9582db7a-f46d-4f9b-90c7-c7198a8e9792\">\n",
              "    <style>\n",
              "      .colab-df-generate {\n",
              "        background-color: #E8F0FE;\n",
              "        border: none;\n",
              "        border-radius: 50%;\n",
              "        cursor: pointer;\n",
              "        display: none;\n",
              "        fill: #1967D2;\n",
              "        height: 32px;\n",
              "        padding: 0 0 0 0;\n",
              "        width: 32px;\n",
              "      }\n",
              "\n",
              "      .colab-df-generate:hover {\n",
              "        background-color: #E2EBFA;\n",
              "        box-shadow: 0px 1px 2px rgba(60, 64, 67, 0.3), 0px 1px 3px 1px rgba(60, 64, 67, 0.15);\n",
              "        fill: #174EA6;\n",
              "      }\n",
              "\n",
              "      [theme=dark] .colab-df-generate {\n",
              "        background-color: #3B4455;\n",
              "        fill: #D2E3FC;\n",
              "      }\n",
              "\n",
              "      [theme=dark] .colab-df-generate:hover {\n",
              "        background-color: #434B5C;\n",
              "        box-shadow: 0px 1px 3px 1px rgba(0, 0, 0, 0.15);\n",
              "        filter: drop-shadow(0px 1px 2px rgba(0, 0, 0, 0.3));\n",
              "        fill: #FFFFFF;\n",
              "      }\n",
              "    </style>\n",
              "    <button class=\"colab-df-generate\" onclick=\"generateWithVariable('evaluation_results')\"\n",
              "            title=\"Generate code using this dataframe.\"\n",
              "            style=\"display:none;\">\n",
              "\n",
              "  <svg xmlns=\"http://www.w3.org/2000/svg\" height=\"24px\"viewBox=\"0 0 24 24\"\n",
              "       width=\"24px\">\n",
              "    <path d=\"M7,19H8.4L18.45,9,17,7.55,7,17.6ZM5,21V16.75L18.45,3.32a2,2,0,0,1,2.83,0l1.4,1.43a1.91,1.91,0,0,1,.58,1.4,1.91,1.91,0,0,1-.58,1.4L9.25,21ZM18.45,9,17,7.55Zm-12,3A5.31,5.31,0,0,0,4.9,8.1,5.31,5.31,0,0,0,1,6.5,5.31,5.31,0,0,0,4.9,4.9,5.31,5.31,0,0,0,6.5,1,5.31,5.31,0,0,0,8.1,4.9,5.31,5.31,0,0,0,12,6.5,5.46,5.46,0,0,0,6.5,12Z\"/>\n",
              "  </svg>\n",
              "    </button>\n",
              "    <script>\n",
              "      (() => {\n",
              "      const buttonEl =\n",
              "        document.querySelector('#id_9582db7a-f46d-4f9b-90c7-c7198a8e9792 button.colab-df-generate');\n",
              "      buttonEl.style.display =\n",
              "        google.colab.kernel.accessAllowed ? 'block' : 'none';\n",
              "\n",
              "      buttonEl.onclick = () => {\n",
              "        google.colab.notebook.generateWithVariable('evaluation_results');\n",
              "      }\n",
              "      })();\n",
              "    </script>\n",
              "  </div>\n",
              "\n",
              "    </div>\n",
              "  </div>\n"
            ],
            "application/vnd.google.colaboratory.intrinsic+json": {
              "type": "dataframe",
              "variable_name": "evaluation_results",
              "summary": "{\n  \"name\": \"evaluation_results\",\n  \"rows\": 6,\n  \"fields\": [\n    {\n      \"column\": \"name\",\n      \"properties\": {\n        \"dtype\": \"string\",\n        \"num_unique_values\": 6,\n        \"samples\": [\n          \"BM25\",\n          \"TF-IDF\",\n          \"BM25>>DuoBERT(Top10)\"\n        ],\n        \"semantic_type\": \"\",\n        \"description\": \"\"\n      }\n    },\n    {\n      \"column\": \"map\",\n      \"properties\": {\n        \"dtype\": \"number\",\n        \"std\": 0.0496750395526439,\n        \"min\": 0.03862464997706875,\n        \"max\": 0.15144745249814986,\n        \"num_unique_values\": 6,\n        \"samples\": [\n          0.13655398492232518,\n          0.13679286276017238,\n          0.04658812796323303\n        ],\n        \"semantic_type\": \"\",\n        \"description\": \"\"\n      }\n    },\n    {\n      \"column\": \"P_10\",\n      \"properties\": {\n        \"dtype\": \"number\",\n        \"std\": 0.05785038173311102,\n        \"min\": 0.19000000000000003,\n        \"max\": 0.37,\n        \"num_unique_values\": 3,\n        \"samples\": [\n          0.3,\n          0.37,\n          0.19000000000000003\n        ],\n        \"semantic_type\": \"\",\n        \"description\": \"\"\n      }\n    },\n    {\n      \"column\": \"recall_1000\",\n      \"properties\": {\n        \"dtype\": \"number\",\n        \"std\": 0.23514451198554057,\n        \"min\": 0.09796997575238908,\n        \"max\": 0.5720420461723414,\n        \"num_unique_values\": 4,\n        \"samples\": [\n          0.5720420461723414,\n          0.09796997575238908,\n          0.5500777604580557\n        ],\n        \"semantic_type\": \"\",\n        \"description\": \"\"\n      }\n    },\n    {\n      \"column\": \"ndcg\",\n      \"properties\": {\n        \"dtype\": \"number\",\n        \"std\": 0.13605776734533284,\n        \"min\": 0.12310005768416218,\n        \"max\": 0.4090304515571496,\n        \"num_unique_values\": 6,\n        \"samples\": [\n          0.40240991799345033,\n          0.40235626634871585,\n          0.13277245507466673\n        ],\n        \"semantic_type\": \"\",\n        \"description\": \"\"\n      }\n    },\n    {\n      \"column\": \"map +\",\n      \"properties\": {\n        \"dtype\": \"number\",\n        \"std\": 3.768288736283355,\n        \"min\": 0.0,\n        \"max\": 9.0,\n        \"num_unique_values\": 4,\n        \"samples\": [\n          9.0,\n          0.0,\n          5.0\n        ],\n        \"semantic_type\": \"\",\n        \"description\": \"\"\n      }\n    },\n    {\n      \"column\": \"map -\",\n      \"properties\": {\n        \"dtype\": \"number\",\n        \"std\": 3.768288736283355,\n        \"min\": 1.0,\n        \"max\": 10.0,\n        \"num_unique_values\": 4,\n        \"samples\": [\n          1.0,\n          10.0,\n          5.0\n        ],\n        \"semantic_type\": \"\",\n        \"description\": \"\"\n      }\n    },\n    {\n      \"column\": \"map p-value\",\n      \"properties\": {\n        \"dtype\": \"number\",\n        \"std\": 0.33626059560050003,\n        \"min\": 0.0018578195371467944,\n        \"max\": 0.7690987886706946,\n        \"num_unique_values\": 5,\n        \"samples\": [\n          0.06763102457018755,\n          0.004832852473981646,\n          0.004667793942703857\n        ],\n        \"semantic_type\": \"\",\n        \"description\": \"\"\n      }\n    },\n    {\n      \"column\": \"P_10 +\",\n      \"properties\": {\n        \"dtype\": \"number\",\n        \"std\": 1.7888543819998322,\n        \"min\": 0.0,\n        \"max\": 4.0,\n        \"num_unique_values\": 2,\n        \"samples\": [\n          4.0,\n          0.0\n        ],\n        \"semantic_type\": \"\",\n        \"description\": \"\"\n      }\n    },\n    {\n      \"column\": \"P_10 -\",\n      \"properties\": {\n        \"dtype\": \"number\",\n        \"std\": 2.6076809620810595,\n        \"min\": 0.0,\n        \"max\": 6.0,\n        \"num_unique_values\": 3,\n        \"samples\": [\n          0.0,\n          1.0\n        ],\n        \"semantic_type\": \"\",\n        \"description\": \"\"\n      }\n    },\n    {\n      \"column\": \"P_10 p-value\",\n      \"properties\": {\n        \"dtype\": \"number\",\n        \"std\": 0.07016624211680271,\n        \"min\": 0.011534870347430639,\n        \"max\": 0.1107649215697673,\n        \"num_unique_values\": 2,\n        \"samples\": [\n          0.011534870347430639,\n          0.1107649215697673\n        ],\n        \"semantic_type\": \"\",\n        \"description\": \"\"\n      }\n    },\n    {\n      \"column\": \"recall_1000 +\",\n      \"properties\": {\n        \"dtype\": \"number\",\n        \"std\": 2.1908902300206643,\n        \"min\": 0.0,\n        \"max\": 5.0,\n        \"num_unique_values\": 3,\n        \"samples\": [\n          0.0,\n          5.0\n        ],\n        \"semantic_type\": \"\",\n        \"description\": \"\"\n      }\n    },\n    {\n      \"column\": \"recall_1000 -\",\n      \"properties\": {\n        \"dtype\": \"number\",\n        \"std\": 4.560701700396552,\n        \"min\": 0.0,\n        \"max\": 10.0,\n        \"num_unique_values\": 4,\n        \"samples\": [\n          2.0,\n          10.0\n        ],\n        \"semantic_type\": \"\",\n        \"description\": \"\"\n      }\n    },\n    {\n      \"column\": \"recall_1000 p-value\",\n      \"properties\": {\n        \"dtype\": \"number\",\n        \"std\": 0.3682805071430974,\n        \"min\": 0.0002180607580105226,\n        \"max\": 0.778077204098792,\n        \"num_unique_values\": 3,\n        \"samples\": [\n          0.19104490405226518,\n          0.778077204098792\n        ],\n        \"semantic_type\": \"\",\n        \"description\": \"\"\n      }\n    },\n    {\n      \"column\": \"ndcg +\",\n      \"properties\": {\n        \"dtype\": \"number\",\n        \"std\": 2.8809720581775866,\n        \"min\": 0.0,\n        \"max\": 6.0,\n        \"num_unique_values\": 4,\n        \"samples\": [\n          6.0,\n          0.0\n        ],\n        \"semantic_type\": \"\",\n        \"description\": \"\"\n      }\n    },\n    {\n      \"column\": \"ndcg -\",\n      \"properties\": {\n        \"dtype\": \"number\",\n        \"std\": 2.8809720581775866,\n        \"min\": 4.0,\n        \"max\": 10.0,\n        \"num_unique_values\": 4,\n        \"samples\": [\n          4.0,\n          10.0\n        ],\n        \"semantic_type\": \"\",\n        \"description\": \"\"\n      }\n    },\n    {\n      \"column\": \"ndcg p-value\",\n      \"properties\": {\n        \"dtype\": \"number\",\n        \"std\": 0.4103301496556055,\n        \"min\": 0.0005287269624463251,\n        \"max\": 0.9023093499517216,\n        \"num_unique_values\": 5,\n        \"samples\": [\n          0.5242192084622139,\n          0.0008442856453400896\n        ],\n        \"semantic_type\": \"\",\n        \"description\": \"\"\n      }\n    }\n  ]\n}"
            }
          },
          "metadata": {}
        }
      ]
    },
    {
      "cell_type": "code",
      "source": [
        "if not evaluation_results.empty:\n",
        "    plt.figure(figsize=(15, 8))\n",
        "\n",
        "    plot_metrics = [m for m in [\"map\", \"ndcg\", \"P_10\"] if m in evaluation_results.columns]\n",
        "\n",
        "    if plot_metrics:\n",
        "        num_eval_queries_for_plot = len(eval_queries_df_pt) if not eval_queries_df_pt.empty else 0\n",
        "\n",
        "        plot_data = evaluation_results.melt(\n",
        "            id_vars=['name'],\n",
        "            value_vars=plot_metrics,\n",
        "            var_name='Metric',\n",
        "            value_name='Score'\n",
        "        )\n",
        "\n",
        "\n",
        "        ax = sns.barplot(x='name', y='Score', hue='Metric', data=plot_data)\n",
        "\n",
        "        plt.xticks(rotation=45, ha=\"right\", fontsize=10)\n",
        "        plt.yticks(fontsize=10)\n",
        "\n",
        "        plt.title(f'System Performance Comparison ({num_eval_queries_for_plot} CORD-19 Queries)', fontsize=16)\n",
        "        plt.ylabel('Metric Score', fontsize=12)\n",
        "        plt.xlabel('Retrieval System', fontsize=12)\n",
        "\n",
        "        plt.legend(title='Metric', fontsize=10, title_fontsize=12, loc='upper right')\n",
        "\n",
        "        plt.tight_layout()\n",
        "        plt.grid(axis='y', linestyle='--', alpha=0.7)\n",
        "        plt.show()\n",
        "    else:\n",
        "        print(\"No standard metrics (map, ndcg, P_10) found in evaluation_results to plot.\")\n",
        "\n",
        "else:\n",
        "    print(\"Evaluation results are empty, skipping plot generation.\")"
      ],
      "metadata": {
        "colab": {
          "base_uri": "https://localhost:8080/",
          "height": 807
        },
        "id": "wwHGcHumexaB",
        "outputId": "7a2101a5-fdde-4344-dec3-c9758a17d72d"
      },
      "execution_count": 181,
      "outputs": [
        {
          "output_type": "display_data",
          "data": {
            "text/plain": [
              "<Figure size 1500x800 with 1 Axes>"
            ],
            "image/png": "[encoded data removed]"
          },
          "metadata": {}
        }
      ]
    },
    {
      "cell_type": "markdown",
      "source": [
        "# Sample Query Demonstration"
      ],
      "metadata": {
        "id": "FRxwvol8_RLk"
      }
    },
    {
      "cell_type": "code",
      "source": [
        "demo_systems = [bm25_retriever, tf_idf_retriever, bm25_rm3_pipeline, bm25_embedding_exp_pipeline, bm25_monobert_pipeline, bm25_duobert_pipeline]\n",
        "demo_system_names = [\"BM25\", \"TF-IDF\", \"BM25+RM3\", \"BM25+Emb_Exp\", f\"BM25>>MonoBERT(Top{CANDIDATES_FOR_RERANK_DEMO})\", f\"BM25>>DuoBERT(Top{CANDIDATES_FOR_RERANK_DEMO})\"]\n",
        "sample_query_text_demo = \"long-term effects of COVID-19 vaccination\"\n",
        "if not queries_df_subset.empty and not (len(queries_df_subset)==1 and queries_df_subset.iloc[0]['qid'] == 'dummy_qid_final_ops'):\n",
        "    sample_query_row_demo = queries_df_subset.iloc[0]\n",
        "    sample_qid_demo, sample_query_text_demo = sample_query_row_demo['qid'], sample_query_row_demo['query']\n",
        "    print(f\"Using query_id '{sample_qid_demo}': '{sample_query_text_demo}' for demonstration.\")\n",
        "else:\n",
        "    print(f\"queries_df_subset empty or dummy. Using default demo query: '{sample_query_text_demo}'\")\n",
        "\n",
        "search_df_single_query = pd.DataFrame([{'qid': 'demo_q1', 'query': sample_query_text_demo}])\n",
        "for name, pipeline in zip(demo_system_names, demo_systems):\n",
        "    print(f\"\\n--- Top 3 results from {name} for query: '{sample_query_text_demo}' ---\")\n",
        "    start_time_s = time.time()\n",
        "    if hasattr(pipeline, 'search') and callable(pipeline.search) and not isinstance(pipeline, (pt.Transformer, pt.apply.generic)):\n",
        "        results_sample = pipeline.search(sample_query_text_demo)\n",
        "    else:\n",
        "        results_sample = pipeline.transform(search_df_single_query.copy())\n",
        "    print(f\"  (Query processing time: {time.time() - start_time_s:.4f}s)\")\n",
        "\n",
        "    if results_sample.empty: print(\"  No results returned.\"); continue\n",
        "    for i_idx, row_series in results_sample.head(3).iterrows():\n",
        "        docno, score = str(row_series['docno']), row_series.get('score', 'N/A')\n",
        "        rank_val = row_series.get('rank', i_idx) + 1\n",
        "        doc_text_series = documents_df_orig[documents_df_orig['docno'] == docno]['text']\n",
        "        doc_text_orig = doc_text_series.iloc[0][:150]+\"...\" if not doc_text_series.empty else \"Original text not found.\"\n",
        "        score_display = f\"{score:.4f}\" if isinstance(score, (float, np.floating)) else str(score)\n",
        "        print(f\"  Rank {rank_val}. DocID: {docno} (Score: {score_display})\\n     Content: {doc_text_orig}\\n\")"
      ],
      "metadata": {
        "colab": {
          "base_uri": "https://localhost:8080/"
        },
        "id": "ZxIthrII_TaV",
        "outputId": "47a1536c-ea5c-437f-a978-a04f17543113"
      },
      "execution_count": 165,
      "outputs": [
        {
          "output_type": "stream",
          "name": "stdout",
          "text": [
            "Using query_id 'dummy_q_eval_critical_final': 'dummy q final' for demonstration.\n",
            "\n",
            "--- Top 3 results from BM25 for query: 'dummy q final' ---\n",
            "  (Query processing time: 0.0951s)\n",
            "  Rank 1. DocID: z8c37qvi (Score: 15.3091)\n",
            "     Content: Watertight dural closure in brain surgery: a simple model for training. BACKGROUND To avoid cerebrospinal fluid leaks and related possible complicatio...\n",
            "\n",
            "  Rank 2. DocID: nrgvmpv7 (Score: 13.2257)\n",
            "     Content: Review of available methods of simulation training to facilitate surgical education. The old paradigm of \"see one, do one, teach one\" has now changed ...\n",
            "\n",
            "  Rank 3. DocID: hf79cbuq (Score: 11.3030)\n",
            "     Content: Effectiveness of surgical masks against influenza bioaerosols. BACKGROUND Most surgical masks are not certified for use as respiratory protective devi...\n",
            "\n",
            "\n",
            "--- Top 3 results from TF-IDF for query: 'dummy q final' ---\n",
            "  (Query processing time: 0.0983s)\n",
            "  Rank 1. DocID: z8c37qvi (Score: 8.4851)\n",
            "     Content: Watertight dural closure in brain surgery: a simple model for training. BACKGROUND To avoid cerebrospinal fluid leaks and related possible complicatio...\n",
            "\n",
            "  Rank 2. DocID: nrgvmpv7 (Score: 7.3304)\n",
            "     Content: Review of available methods of simulation training to facilitate surgical education. The old paradigm of \"see one, do one, teach one\" has now changed ...\n",
            "\n",
            "  Rank 3. DocID: hf79cbuq (Score: 6.2647)\n",
            "     Content: Effectiveness of surgical masks against influenza bioaerosols. BACKGROUND Most surgical masks are not certified for use as respiratory protective devi...\n",
            "\n",
            "\n",
            "--- Top 3 results from BM25+RM3 for query: 'dummy q final' ---\n",
            "  (Query processing time: 0.1967s)\n",
            "  Rank 1. DocID: z8c37qvi (Score: 31.0900)\n",
            "     Content: Watertight dural closure in brain surgery: a simple model for training. BACKGROUND To avoid cerebrospinal fluid leaks and related possible complicatio...\n",
            "\n",
            "  Rank 2. DocID: nrgvmpv7 (Score: 16.4819)\n",
            "     Content: Review of available methods of simulation training to facilitate surgical education. The old paradigm of \"see one, do one, teach one\" has now changed ...\n",
            "\n",
            "  Rank 3. DocID: hf79cbuq (Score: 13.6549)\n",
            "     Content: Effectiveness of surgical masks against influenza bioaerosols. BACKGROUND Most surgical masks are not certified for use as respiratory protective devi...\n",
            "\n",
            "\n",
            "--- Top 3 results from BM25+Emb_Exp for query: 'dummy q final' ---\n",
            "  (Query processing time: 0.5960s)\n",
            "  Rank 1. DocID: nrgvmpv7 (Score: 23.7934)\n",
            "     Content: Review of available methods of simulation training to facilitate surgical education. The old paradigm of \"see one, do one, teach one\" has now changed ...\n",
            "\n",
            "  Rank 2. DocID: z8c37qvi (Score: 20.0158)\n",
            "     Content: Watertight dural closure in brain surgery: a simple model for training. BACKGROUND To avoid cerebrospinal fluid leaks and related possible complicatio...\n",
            "\n",
            "  Rank 3. DocID: 187o4ukz (Score: 17.9664)\n",
            "     Content: Construction of a bovine-murine heteromyeloma cell line; Production of bovine monoclonal antibodies against rotavirus and pregnant mare serum gonadotr...\n",
            "\n",
            "\n",
            "--- Top 3 results from BM25>>MonoBERT(Top10) for query: 'dummy q final' ---\n",
            "  (Query processing time: 20.0718s)\n",
            "  Rank 5. DocID: nle4oisc (Score: 0.2523)\n",
            "     Content: Detailed balance for diffusion in a potential with trapping and forward–backward symmetry of trapping time distributions For particles diffusing in a ...\n",
            "\n",
            "  Rank 3. DocID: hf79cbuq (Score: 0.0939)\n",
            "     Content: Effectiveness of surgical masks against influenza bioaerosols. BACKGROUND Most surgical masks are not certified for use as respiratory protective devi...\n",
            "\n",
            "  Rank 7. DocID: 2grp23fi (Score: -0.0326)\n",
            "     Content: The Final Size of an Epidemic and Its Relation to the Basic Reproduction Number We study the final size equation for an epidemic in a subdivided popul...\n",
            "\n",
            "\n",
            "--- Top 3 results from BM25>>DuoBERT(Top10) for query: 'dummy q final' ---\n",
            "  (Query processing time: 177.6974s)\n",
            "  Rank 3. DocID: hf79cbuq (Score: 8.0000)\n",
            "     Content: Effectiveness of surgical masks against influenza bioaerosols. BACKGROUND Most surgical masks are not certified for use as respiratory protective devi...\n",
            "\n",
            "  Rank 4. DocID: f6i0wb0g (Score: 8.0000)\n",
            "     Content: in the final analysis ...\n",
            "\n",
            "  Rank 1. DocID: z8c37qvi (Score: 7.0000)\n",
            "     Content: Watertight dural closure in brain surgery: a simple model for training. BACKGROUND To avoid cerebrospinal fluid leaks and related possible complicatio...\n",
            "\n"
          ]
        }
      ]
    },
    {
      "cell_type": "code",
      "source": [
        "import gradio as gr\n",
        "import pandas as pd\n",
        "import time\n",
        "import traceback\n",
        "import matplotlib.pyplot as plt\n",
        "import seaborn as sns\n",
        "\n",
        "pipelines_global = {name: pipeline for name, pipeline in zip(demo_system_names, demo_systems)}\n",
        "documents_df_orig_global = documents_df_orig.copy()\n",
        "system_names_list_gradio = list(pipelines_global.keys())\n",
        "\n",
        "def format_results_for_gradio(results_df, top_n):\n",
        "    if results_df.empty: return pd.DataFrame(columns=[\"Rank\", \"DocID\", \"Score\", \"Content Snippet\"])\n",
        "    output_data = []\n",
        "    for i, row in results_df.head(int(top_n)).iterrows():\n",
        "        docno, score = str(row['docno']), row.get('score', 'N/A')\n",
        "        rank = row.get('rank', i) + 1\n",
        "        doc_text_series = documents_df_orig_global[documents_df_orig_global['docno'] == docno]['text']\n",
        "        doc_snippet = doc_text_series.iloc[0][:250] + \"...\" if not doc_text_series.empty else \"Snippet NA.\"\n",
        "        score_str = f\"{score:.4f}\" if isinstance(score, (float, np.floating)) else str(score)\n",
        "        output_data.append({\"Rank\": rank, \"DocID\": docno, \"Score\": score_str, \"Content Snippet\": doc_snippet})\n",
        "    return pd.DataFrame(output_data)\n",
        "\n",
        "def create_score_distribution_plot(results_df, top_n):\n",
        "    fig = plt.figure(figsize=(8, 4))\n",
        "    top_n = int(top_n)\n",
        "    if results_df.empty or 'score' not in results_df.columns:\n",
        "        plt.text(0.5, 0.5, \"No scores to plot.\", ha='center', va='center'); plt.axis('off'); return fig\n",
        "    top_results = results_df.head(top_n).copy()\n",
        "    top_results['numeric_score'] = pd.to_numeric(top_results['score'], errors='coerce').fillna(0)\n",
        "    if top_results.empty or top_results['numeric_score'].isnull().all():\n",
        "        plt.text(0.5, 0.5, \"No valid numeric scores to plot.\", ha='center', va='center'); plt.axis('off'); return fig\n",
        "    top_results['display_rank'] = range(1, len(top_results) + 1)\n",
        "\n",
        "\n",
        "    sns.barplot(x='display_rank', y='numeric_score', data=top_results, palette=\"viridis\")\n",
        "\n",
        "    plt.title(f'Score Distribution for Top {len(top_results)} Docs'); plt.xlabel('Document Rank'); plt.ylabel('Retrieval Score')\n",
        "    plt.xticks(ticks=range(len(top_results)), labels=top_results['display_rank'], rotation=45, ha=\"right\"); plt.tight_layout()\n",
        "    return fig\n",
        "\n",
        "def search_ir_system_gradio(query_text, system_name_selected, top_n_results_slider_val):\n",
        "    top_n_results = int(top_n_results_slider_val)\n",
        "\n",
        "    if not query_text:\n",
        "        return pd.DataFrame(columns=[\"Rank\", \"DocID\", \"Score\", \"Content Snippet\"]), \\\n",
        "               \"Please enter a query.\", \"0.00s\", None\n",
        "\n",
        "    pipeline_to_run = pipelines_global[system_name_selected]\n",
        "    search_df_single_query_gradio = pd.DataFrame([{'qid': 'gradio_q1', 'query': query_text}])\n",
        "    plot_object = None\n",
        "\n",
        "    try:\n",
        "        start_time_s = time.time()\n",
        "        if hasattr(pipeline_to_run, 'search') and callable(pipeline_to_run.search) and not isinstance(pipeline_to_run, (pt.Transformer, pt.apply.generic)):\n",
        "            results_df = pipeline_to_run.search(query_text)\n",
        "        else:\n",
        "             results_df = pipeline_to_run.transform(search_df_single_query_gradio.copy())\n",
        "\n",
        "        end_time_s = time.time()\n",
        "        processing_time_str = f\"{end_time_s - start_time_s:.2f}s\"\n",
        "\n",
        "\n",
        "\n",
        "        if results_df.empty:\n",
        "            status_message = \"No results found.\"\n",
        "            output_df = pd.DataFrame(columns=[\"Rank\", \"DocID\", \"Score\", \"Content Snippet\"])\n",
        "        else:\n",
        "            status_message = f\"Displaying top {min(top_n_results, len(results_df))} results.\"\n",
        "            output_df = format_results_for_gradio(results_df, top_n_results)\n",
        "\n",
        "        plot_object = create_score_distribution_plot(results_df, top_n_results)\n",
        "\n",
        "    except Exception as e:\n",
        "        status_message = f\"An error occurred: {str(e)}\"\n",
        "        output_df = pd.DataFrame(columns=[\"Rank\", \"DocID\", \"Score\", \"Content Snippet\"])\n",
        "        processing_time_str = \"Error\"\n",
        "\n",
        "        fig_err = plt.figure(figsize=(8,4)); plt.text(0.5,0.5, \"Error generating plot during exception.\", ha='center', va='center'); plt.axis('off'); plot_object = fig_err\n",
        "        print(\"Error during Gradio search:\"); import traceback; traceback.print_exc()\n",
        "\n",
        "    return output_df, status_message, processing_time_str, plot_object\n",
        "\n",
        "\n",
        "default_gradio_query = sample_query_text_demo\n",
        "gradio_examples_list = [\n",
        "    [\"effectiveness of masks against virus transmission\", system_names_list_gradio[0] if system_names_list_gradio else \"BM25\", 5],\n",
        "    [\"COVID-19 vaccine development and trials\", system_names_list_gradio[2] if len(system_names_list_gradio) > 2 else (system_names_list_gradio[0] if system_names_list_gradio else \"BM25\"), 3],\n",
        "    [\"long term effects of coronavirus\", system_names_list_gradio[4] if len(system_names_list_gradio) > 4 else (system_names_list_gradio[0] if system_names_list_gradio else \"BM25\"), 5]\n",
        "]\n",
        "gradio_examples_list = [ex for ex in gradio_examples_list if ex[1] in system_names_list_gradio]\n",
        "\n",
        "\n",
        "with gr.Blocks(theme=gr.themes.Soft(primary_hue=\"teal\", secondary_hue=\"cyan\")) as iface_colab_viz_cord19_final:\n",
        "    gr.Markdown(\"# 📊 Interactive Information Retrieval System (CORD-19 Dataset)\")\n",
        "    gr.Markdown(\"Enter a query, select a retrieval system, and view ranked documents with score distributions.\")\n",
        "    with gr.Row():\n",
        "        query_input_gradio = gr.Textbox(label=\"Query:\", placeholder=\"e.g., covid transmission routes\", value=default_gradio_query, scale=3)\n",
        "        system_selector_gradio = gr.Dropdown(\n",
        "            label=\"Retrieval System:\",\n",
        "            choices=system_names_list_gradio,\n",
        "            value=system_names_list_gradio[0] if system_names_list_gradio else None,\n",
        "            scale=2\n",
        "        )\n",
        "        top_n_slider_gradio = gr.Slider(\n",
        "            minimum=1,\n",
        "            maximum=max(1, CANDIDATES_FOR_RERANK_DEMO),\n",
        "            value=5,\n",
        "            step=1,\n",
        "            label=\"Top N for Display/Plot\",\n",
        "            scale=1\n",
        "        )\n",
        "\n",
        "    search_button_gradio = gr.Button(\"Search & Visualize CORD-19 Data 📈\", variant=\"primary\")\n",
        "\n",
        "\n",
        "    with gr.Row():\n",
        "        status_output_gradio = gr.Textbox(label=\"Status:\", interactive=False, scale=2)\n",
        "        time_output_gradio = gr.Textbox(label=\"Time:\", interactive=False, scale=1)\n",
        "\n",
        "    gr.Markdown(\"---\")\n",
        "\n",
        "    with gr.Row():\n",
        "        with gr.Column(scale=2):\n",
        "            gr.Markdown(\"## 📜 Search Results (CORD-19 Documents)\")\n",
        "            results_table_gradio_out = gr.DataFrame(\n",
        "                headers=[\"Rank\", \"DocID\", \"Score\", \"Content Snippet\"],\n",
        "                label=\"Ranked Documents\",\n",
        "                wrap=True,\n",
        "                max_rows=CANDIDATES_FOR_RERANK_DEMO\n",
        "            )\n",
        "        with gr.Column(scale=1):\n",
        "            gr.Markdown(\"## 📊 Score Distribution\")\n",
        "            score_plot_gradio_out = gr.Plot(label=\"Top Scores Distribution\")\n",
        "\n",
        "    search_button_gradio.click(\n",
        "        fn=search_ir_system_gradio,\n",
        "        inputs=[query_input_gradio, system_selector_gradio, top_n_slider_gradio],\n",
        "        outputs=[results_table_gradio_out, status_output_gradio, time_output_gradio, score_plot_gradio_out]\n",
        "    )\n",
        "\n",
        "    if gradio_examples_list:\n",
        "        gr.Examples(\n",
        "            examples=gradio_examples_list,\n",
        "            inputs=[query_input_gradio, system_selector_gradio, top_n_slider_gradio],\n",
        "\n",
        "            outputs=[results_table_gradio_out, status_output_gradio, time_output_gradio, score_plot_gradio_out],\n",
        "            fn=search_ir_system_gradio,\n",
        "            cache_examples=False\n",
        "        )\n",
        "    else:\n",
        "        gr.Markdown(\"_(No examples to display due to system configuration or empty example list)_\")\n",
        "\n",
        "iface_colab_viz_cord19_final.launch(debug=True)"
      ],
      "metadata": {
        "colab": {
          "base_uri": "https://localhost:8080/",
          "height": 626
        },
        "id": "SXsMPxC36DbO",
        "outputId": "eb66177f-a1f0-496b-fd10-8088f63ad16c"
      },
      "execution_count": null,
      "outputs": [
        {
          "output_type": "stream",
          "name": "stdout",
          "text": [
            "It looks like you are running Gradio on a hosted a Jupyter notebook. For the Gradio app to work, sharing must be enabled. Automatically setting `share=True` (you can turn this off by setting `share=False` in `launch()` explicitly).\n",
            "\n",
            "Colab notebook detected. This cell will run indefinitely so that you can see errors and logs. To turn off, set debug=False in launch().\n",
            "* Running on public URL: https://171f199cb3f5aaba33.gradio.live\n",
            "\n",
            "This share link expires in 1 week. For free permanent hosting and GPU upgrades, run `gradio deploy` from the terminal in the working directory to deploy to Hugging Face Spaces (https://huggingface.co/spaces)\n"
          ]
        },
        {
          "output_type": "display_data",
          "data": {
            "text/plain": [
              "<IPython.core.display.HTML object>"
            ],
            "text/html": [
              "<div><iframe src=\"https://171f199cb3f5aaba33.gradio.live\" width=\"100%\" height=\"500\" allow=\"autoplay; camera; microphone; clipboard-read; clipboard-write;\" frameborder=\"0\" allowfullscreen></iframe></div>"
            ]
          },
          "metadata": {}
        }
      ]
    }
  ]
}